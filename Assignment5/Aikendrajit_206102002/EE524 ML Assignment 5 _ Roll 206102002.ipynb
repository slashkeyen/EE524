{
 "cells": [
  {
   "cell_type": "markdown",
   "metadata": {},
   "source": [
    "# EE 524 Machine Learning Lab: Assignment 5"
   ]
  },
  {
   "cell_type": "markdown",
   "metadata": {},
   "source": [
    "- by Aikendrajit Roll no.: 206102002"
   ]
  },
  {
   "cell_type": "markdown",
   "metadata": {},
   "source": [
    "  "
   ]
  },
  {
   "cell_type": "markdown",
   "metadata": {},
   "source": [
    "K Nearest Neighbours Algorithm: Go through the resources mentioned in the slack work space. We will implement this algorithm from beginning without the help of scikit learn.\n",
    "\n",
    "1. **Load the Data set** Download and read the iris flower data set as a csv file from here.\n",
    "\n",
    "2. **Normalize the Data set** Once you read the csv file, try finding the minimum and maximum values of each feature. Use these values to normalize the data. What is Normalization? Use Range normalization aka minmax normalization (Dont use the inbuilt function).\n",
    "3. **Distance Metric** Use the Euclidean distance metric for calculating distance between 2 arrays. Write a function that calculates the Euclidean distance between 2 input arrays. This will be later used to calculate the closeness of any test sample with rest of the records.\n",
    "4. **Nearest Neighbours** Use the distance function to get the nearest neighbours for a test record. Write a function that takes in 3 inputs, the dataset, the test example and the number of neighbours (k). The output of this function will be a list of k entries in the dataset that are closest to the test record.\n",
    "5. **Prediction using KNN** Write a function that takes 3 inputs, first the dataset, second a test record and third the number of neighbours. The output of this function will be to return the label of the test record using KNN.\n",
    "6. **Test** Use the KNN predictor, to classify the following records:\n",
    "(1). [5.1, 2.5, 3.2, 4.3]\n",
    "(2). [4.9, 3, 1.4, 0.2]\n",
    "(3). [6, 3, 4.8, 1.8] Take k as 5.\n",
    "7. **Accuracy** Use the same KNN predictor to find the labels of the training data. Report the accuracy for each class. You can use confusion matrix to visualize the result (not necessary).\n",
    "8. **Tuning** Use the KNN predictor on the dataset for different values of k. Calculate the accuracy for different values of k and see which k gives the maximum accuracy. This is known as hyperparameter tuning. Are there different ways of choosing k?\n"
   ]
  },
  {
   "cell_type": "code",
   "execution_count": 518,
   "metadata": {},
   "outputs": [],
   "source": [
    "import math \n",
    "import numpy as np\n",
    "import pandas as pd\n",
    "import operator\n",
    "from random import randrange"
   ]
  },
  {
   "cell_type": "code",
   "execution_count": 519,
   "metadata": {},
   "outputs": [
    {
     "data": {
      "text/html": [
       "<div>\n",
       "<style scoped>\n",
       "    .dataframe tbody tr th:only-of-type {\n",
       "        vertical-align: middle;\n",
       "    }\n",
       "\n",
       "    .dataframe tbody tr th {\n",
       "        vertical-align: top;\n",
       "    }\n",
       "\n",
       "    .dataframe thead th {\n",
       "        text-align: right;\n",
       "    }\n",
       "</style>\n",
       "<table border=\"1\" class=\"dataframe\">\n",
       "  <thead>\n",
       "    <tr style=\"text-align: right;\">\n",
       "      <th></th>\n",
       "      <th>SepalLength(Cm)</th>\n",
       "      <th>SepalWidth(Cm)</th>\n",
       "      <th>PetalLength(Cm)</th>\n",
       "      <th>PetalWidth(Cm)</th>\n",
       "      <th>Species</th>\n",
       "    </tr>\n",
       "  </thead>\n",
       "  <tbody>\n",
       "    <tr>\n",
       "      <th>0</th>\n",
       "      <td>5.1</td>\n",
       "      <td>3.5</td>\n",
       "      <td>1.4</td>\n",
       "      <td>0.2</td>\n",
       "      <td>Iris-setosa</td>\n",
       "    </tr>\n",
       "    <tr>\n",
       "      <th>1</th>\n",
       "      <td>4.9</td>\n",
       "      <td>3.0</td>\n",
       "      <td>1.4</td>\n",
       "      <td>0.2</td>\n",
       "      <td>Iris-setosa</td>\n",
       "    </tr>\n",
       "    <tr>\n",
       "      <th>2</th>\n",
       "      <td>4.7</td>\n",
       "      <td>3.2</td>\n",
       "      <td>1.3</td>\n",
       "      <td>0.2</td>\n",
       "      <td>Iris-setosa</td>\n",
       "    </tr>\n",
       "    <tr>\n",
       "      <th>3</th>\n",
       "      <td>4.6</td>\n",
       "      <td>3.1</td>\n",
       "      <td>1.5</td>\n",
       "      <td>0.2</td>\n",
       "      <td>Iris-setosa</td>\n",
       "    </tr>\n",
       "    <tr>\n",
       "      <th>4</th>\n",
       "      <td>5.0</td>\n",
       "      <td>3.6</td>\n",
       "      <td>1.4</td>\n",
       "      <td>0.2</td>\n",
       "      <td>Iris-setosa</td>\n",
       "    </tr>\n",
       "  </tbody>\n",
       "</table>\n",
       "</div>"
      ],
      "text/plain": [
       "   SepalLength(Cm)  SepalWidth(Cm)  PetalLength(Cm)  PetalWidth(Cm)  \\\n",
       "0              5.1             3.5              1.4             0.2   \n",
       "1              4.9             3.0              1.4             0.2   \n",
       "2              4.7             3.2              1.3             0.2   \n",
       "3              4.6             3.1              1.5             0.2   \n",
       "4              5.0             3.6              1.4             0.2   \n",
       "\n",
       "       Species  \n",
       "0  Iris-setosa  \n",
       "1  Iris-setosa  \n",
       "2  Iris-setosa  \n",
       "3  Iris-setosa  \n",
       "4  Iris-setosa  "
      ]
     },
     "execution_count": 519,
     "metadata": {},
     "output_type": "execute_result"
    }
   ],
   "source": [
    "data = pd.read_csv(\"iris.csv\")   #reading the csv file\n",
    "data.head()                      #this will print only the first 5 rows of the dataframe"
   ]
  },
  {
   "cell_type": "code",
   "execution_count": 520,
   "metadata": {},
   "outputs": [
    {
     "data": {
      "text/plain": [
       "(150, 5)"
      ]
     },
     "execution_count": 520,
     "metadata": {},
     "output_type": "execute_result"
    }
   ],
   "source": [
    "data.shape               #it returns the dimension of a dataframe"
   ]
  },
  {
   "cell_type": "code",
   "execution_count": 521,
   "metadata": {},
   "outputs": [
    {
     "data": {
      "text/html": [
       "<div>\n",
       "<style scoped>\n",
       "    .dataframe tbody tr th:only-of-type {\n",
       "        vertical-align: middle;\n",
       "    }\n",
       "\n",
       "    .dataframe tbody tr th {\n",
       "        vertical-align: top;\n",
       "    }\n",
       "\n",
       "    .dataframe thead th {\n",
       "        text-align: right;\n",
       "    }\n",
       "</style>\n",
       "<table border=\"1\" class=\"dataframe\">\n",
       "  <thead>\n",
       "    <tr style=\"text-align: right;\">\n",
       "      <th></th>\n",
       "      <th>SepalLength(Cm)</th>\n",
       "      <th>SepalWidth(Cm)</th>\n",
       "      <th>PetalLength(Cm)</th>\n",
       "      <th>PetalWidth(Cm)</th>\n",
       "      <th>Species</th>\n",
       "    </tr>\n",
       "  </thead>\n",
       "  <tbody>\n",
       "    <tr>\n",
       "      <th>0</th>\n",
       "      <td>5.1</td>\n",
       "      <td>3.5</td>\n",
       "      <td>1.4</td>\n",
       "      <td>0.2</td>\n",
       "      <td>Iris-setosa</td>\n",
       "    </tr>\n",
       "    <tr>\n",
       "      <th>1</th>\n",
       "      <td>4.9</td>\n",
       "      <td>3.0</td>\n",
       "      <td>1.4</td>\n",
       "      <td>0.2</td>\n",
       "      <td>Iris-setosa</td>\n",
       "    </tr>\n",
       "    <tr>\n",
       "      <th>2</th>\n",
       "      <td>4.7</td>\n",
       "      <td>3.2</td>\n",
       "      <td>1.3</td>\n",
       "      <td>0.2</td>\n",
       "      <td>Iris-setosa</td>\n",
       "    </tr>\n",
       "    <tr>\n",
       "      <th>3</th>\n",
       "      <td>4.6</td>\n",
       "      <td>3.1</td>\n",
       "      <td>1.5</td>\n",
       "      <td>0.2</td>\n",
       "      <td>Iris-setosa</td>\n",
       "    </tr>\n",
       "    <tr>\n",
       "      <th>4</th>\n",
       "      <td>5.0</td>\n",
       "      <td>3.6</td>\n",
       "      <td>1.4</td>\n",
       "      <td>0.2</td>\n",
       "      <td>Iris-setosa</td>\n",
       "    </tr>\n",
       "    <tr>\n",
       "      <th>...</th>\n",
       "      <td>...</td>\n",
       "      <td>...</td>\n",
       "      <td>...</td>\n",
       "      <td>...</td>\n",
       "      <td>...</td>\n",
       "    </tr>\n",
       "    <tr>\n",
       "      <th>145</th>\n",
       "      <td>6.7</td>\n",
       "      <td>3.0</td>\n",
       "      <td>5.2</td>\n",
       "      <td>2.3</td>\n",
       "      <td>Iris-virginica</td>\n",
       "    </tr>\n",
       "    <tr>\n",
       "      <th>146</th>\n",
       "      <td>6.3</td>\n",
       "      <td>2.5</td>\n",
       "      <td>5.0</td>\n",
       "      <td>1.9</td>\n",
       "      <td>Iris-virginica</td>\n",
       "    </tr>\n",
       "    <tr>\n",
       "      <th>147</th>\n",
       "      <td>6.5</td>\n",
       "      <td>3.0</td>\n",
       "      <td>5.2</td>\n",
       "      <td>2.0</td>\n",
       "      <td>Iris-virginica</td>\n",
       "    </tr>\n",
       "    <tr>\n",
       "      <th>148</th>\n",
       "      <td>6.2</td>\n",
       "      <td>3.4</td>\n",
       "      <td>5.4</td>\n",
       "      <td>2.3</td>\n",
       "      <td>Iris-virginica</td>\n",
       "    </tr>\n",
       "    <tr>\n",
       "      <th>149</th>\n",
       "      <td>5.9</td>\n",
       "      <td>3.0</td>\n",
       "      <td>5.1</td>\n",
       "      <td>1.8</td>\n",
       "      <td>Iris-virginica</td>\n",
       "    </tr>\n",
       "  </tbody>\n",
       "</table>\n",
       "<p>150 rows × 5 columns</p>\n",
       "</div>"
      ],
      "text/plain": [
       "     SepalLength(Cm)  SepalWidth(Cm)  PetalLength(Cm)  PetalWidth(Cm)  \\\n",
       "0                5.1             3.5              1.4             0.2   \n",
       "1                4.9             3.0              1.4             0.2   \n",
       "2                4.7             3.2              1.3             0.2   \n",
       "3                4.6             3.1              1.5             0.2   \n",
       "4                5.0             3.6              1.4             0.2   \n",
       "..               ...             ...              ...             ...   \n",
       "145              6.7             3.0              5.2             2.3   \n",
       "146              6.3             2.5              5.0             1.9   \n",
       "147              6.5             3.0              5.2             2.0   \n",
       "148              6.2             3.4              5.4             2.3   \n",
       "149              5.9             3.0              5.1             1.8   \n",
       "\n",
       "            Species  \n",
       "0       Iris-setosa  \n",
       "1       Iris-setosa  \n",
       "2       Iris-setosa  \n",
       "3       Iris-setosa  \n",
       "4       Iris-setosa  \n",
       "..              ...  \n",
       "145  Iris-virginica  \n",
       "146  Iris-virginica  \n",
       "147  Iris-virginica  \n",
       "148  Iris-virginica  \n",
       "149  Iris-virginica  \n",
       "\n",
       "[150 rows x 5 columns]"
      ]
     },
     "execution_count": 521,
     "metadata": {},
     "output_type": "execute_result"
    }
   ],
   "source": [
    "data.head(150)           #as we know the dimension of the dataframe, printing 150 rows"
   ]
  },
  {
   "cell_type": "code",
   "execution_count": 522,
   "metadata": {},
   "outputs": [
    {
     "data": {
      "text/plain": [
       "Index(['SepalLength(Cm)', 'SepalWidth(Cm)', 'PetalLength(Cm)',\n",
       "       'PetalWidth(Cm)', 'Species'],\n",
       "      dtype='object')"
      ]
     },
     "execution_count": 522,
     "metadata": {},
     "output_type": "execute_result"
    }
   ],
   "source": [
    "data.keys()"
   ]
  },
  {
   "cell_type": "code",
   "execution_count": 523,
   "metadata": {},
   "outputs": [
    {
     "name": "stdout",
     "output_type": "stream",
     "text": [
      "SepalLength(Cm)            4.3\n",
      "SepalWidth(Cm)               2\n",
      "PetalLength(Cm)              1\n",
      "PetalWidth(Cm)             0.1\n",
      "Species            Iris-setosa\n",
      "dtype: object\n"
     ]
    }
   ],
   "source": [
    "data_min = np.min(data)\n",
    "print(data_min)"
   ]
  },
  {
   "cell_type": "code",
   "execution_count": 524,
   "metadata": {},
   "outputs": [
    {
     "name": "stdout",
     "output_type": "stream",
     "text": [
      "SepalLength(Cm)               7.9\n",
      "SepalWidth(Cm)                4.4\n",
      "PetalLength(Cm)               6.9\n",
      "PetalWidth(Cm)                2.5\n",
      "Species            Iris-virginica\n",
      "dtype: object\n"
     ]
    }
   ],
   "source": [
    "data_max = np.max(data)\n",
    "print(data_max)"
   ]
  },
  {
   "cell_type": "code",
   "execution_count": 525,
   "metadata": {
    "scrolled": true
   },
   "outputs": [
    {
     "name": "stdout",
     "output_type": "stream",
     "text": [
      "     SepalLength(Cm)  SepalWidth(Cm)  PetalLength(Cm)  PetalWidth(Cm)  Species\n",
      "0                5.1             3.5              1.4             0.2        1\n",
      "1                4.9             3.0              1.4             0.2        1\n",
      "2                4.7             3.2              1.3             0.2        1\n",
      "3                4.6             3.1              1.5             0.2        1\n",
      "4                5.0             3.6              1.4             0.2        1\n",
      "..               ...             ...              ...             ...      ...\n",
      "145              6.7             3.0              5.2             2.3        3\n",
      "146              6.3             2.5              5.0             1.9        3\n",
      "147              6.5             3.0              5.2             2.0        3\n",
      "148              6.2             3.4              5.4             2.3        3\n",
      "149              5.9             3.0              5.1             1.8        3\n",
      "\n",
      "[150 rows x 5 columns]\n"
     ]
    }
   ],
   "source": [
    "# changing the strings into numbers.\n",
    "\n",
    "Species = {'Iris-setosa': 1, 'Iris-versicolor': 2, 'Iris-virginica': 3}\n",
    "#Assigning these key-value pair from above dictiionary to the iris table/ dataframe\n",
    "data.Species = [Species[item] for item in data.Species]\n",
    "#New data table with 'Iris-setosa' as 1, 'Iris-versicolor' as 2, 'Iris-virginica' as 3\n",
    "print(data)"
   ]
  },
  {
   "cell_type": "markdown",
   "metadata": {},
   "source": [
    "Normalization is defined as the process of organizing the data in the dataframe. It is used to minimize the repetition of data. In statistics, normalization refers to the creation of shifted and scaled versions of statistics, where the intention is that these normalized values allow the comparison of corresponding normalized values for different datasets in a way that eliminates the effects of certain gross influences, as in an anomaly time series. However, there are several meanings of normalization. "
   ]
  },
  {
   "cell_type": "code",
   "execution_count": 526,
   "metadata": {},
   "outputs": [],
   "source": [
    "X_data = data[['SepalLength(Cm)', 'SepalWidth(Cm)', 'PetalLength(Cm)', 'PetalWidth(Cm)']]\n",
    "Y_data = data[\"Species\"]"
   ]
  },
  {
   "cell_type": "code",
   "execution_count": 527,
   "metadata": {},
   "outputs": [],
   "source": [
    "X_data = X_data.apply(lambda x: (x - x.min(axis=0)) / (x.max(axis=0) - x.min(axis=0)))"
   ]
  },
  {
   "cell_type": "code",
   "execution_count": 528,
   "metadata": {},
   "outputs": [
    {
     "data": {
      "text/html": [
       "<div>\n",
       "<style scoped>\n",
       "    .dataframe tbody tr th:only-of-type {\n",
       "        vertical-align: middle;\n",
       "    }\n",
       "\n",
       "    .dataframe tbody tr th {\n",
       "        vertical-align: top;\n",
       "    }\n",
       "\n",
       "    .dataframe thead th {\n",
       "        text-align: right;\n",
       "    }\n",
       "</style>\n",
       "<table border=\"1\" class=\"dataframe\">\n",
       "  <thead>\n",
       "    <tr style=\"text-align: right;\">\n",
       "      <th></th>\n",
       "      <th>SepalLength(Cm)</th>\n",
       "      <th>SepalWidth(Cm)</th>\n",
       "      <th>PetalLength(Cm)</th>\n",
       "      <th>PetalWidth(Cm)</th>\n",
       "    </tr>\n",
       "  </thead>\n",
       "  <tbody>\n",
       "    <tr>\n",
       "      <th>0</th>\n",
       "      <td>0.222222</td>\n",
       "      <td>0.625000</td>\n",
       "      <td>0.067797</td>\n",
       "      <td>0.041667</td>\n",
       "    </tr>\n",
       "    <tr>\n",
       "      <th>1</th>\n",
       "      <td>0.166667</td>\n",
       "      <td>0.416667</td>\n",
       "      <td>0.067797</td>\n",
       "      <td>0.041667</td>\n",
       "    </tr>\n",
       "    <tr>\n",
       "      <th>2</th>\n",
       "      <td>0.111111</td>\n",
       "      <td>0.500000</td>\n",
       "      <td>0.050847</td>\n",
       "      <td>0.041667</td>\n",
       "    </tr>\n",
       "    <tr>\n",
       "      <th>3</th>\n",
       "      <td>0.083333</td>\n",
       "      <td>0.458333</td>\n",
       "      <td>0.084746</td>\n",
       "      <td>0.041667</td>\n",
       "    </tr>\n",
       "    <tr>\n",
       "      <th>4</th>\n",
       "      <td>0.194444</td>\n",
       "      <td>0.666667</td>\n",
       "      <td>0.067797</td>\n",
       "      <td>0.041667</td>\n",
       "    </tr>\n",
       "    <tr>\n",
       "      <th>...</th>\n",
       "      <td>...</td>\n",
       "      <td>...</td>\n",
       "      <td>...</td>\n",
       "      <td>...</td>\n",
       "    </tr>\n",
       "    <tr>\n",
       "      <th>145</th>\n",
       "      <td>0.666667</td>\n",
       "      <td>0.416667</td>\n",
       "      <td>0.711864</td>\n",
       "      <td>0.916667</td>\n",
       "    </tr>\n",
       "    <tr>\n",
       "      <th>146</th>\n",
       "      <td>0.555556</td>\n",
       "      <td>0.208333</td>\n",
       "      <td>0.677966</td>\n",
       "      <td>0.750000</td>\n",
       "    </tr>\n",
       "    <tr>\n",
       "      <th>147</th>\n",
       "      <td>0.611111</td>\n",
       "      <td>0.416667</td>\n",
       "      <td>0.711864</td>\n",
       "      <td>0.791667</td>\n",
       "    </tr>\n",
       "    <tr>\n",
       "      <th>148</th>\n",
       "      <td>0.527778</td>\n",
       "      <td>0.583333</td>\n",
       "      <td>0.745763</td>\n",
       "      <td>0.916667</td>\n",
       "    </tr>\n",
       "    <tr>\n",
       "      <th>149</th>\n",
       "      <td>0.444444</td>\n",
       "      <td>0.416667</td>\n",
       "      <td>0.694915</td>\n",
       "      <td>0.708333</td>\n",
       "    </tr>\n",
       "  </tbody>\n",
       "</table>\n",
       "<p>150 rows × 4 columns</p>\n",
       "</div>"
      ],
      "text/plain": [
       "     SepalLength(Cm)  SepalWidth(Cm)  PetalLength(Cm)  PetalWidth(Cm)\n",
       "0           0.222222        0.625000         0.067797        0.041667\n",
       "1           0.166667        0.416667         0.067797        0.041667\n",
       "2           0.111111        0.500000         0.050847        0.041667\n",
       "3           0.083333        0.458333         0.084746        0.041667\n",
       "4           0.194444        0.666667         0.067797        0.041667\n",
       "..               ...             ...              ...             ...\n",
       "145         0.666667        0.416667         0.711864        0.916667\n",
       "146         0.555556        0.208333         0.677966        0.750000\n",
       "147         0.611111        0.416667         0.711864        0.791667\n",
       "148         0.527778        0.583333         0.745763        0.916667\n",
       "149         0.444444        0.416667         0.694915        0.708333\n",
       "\n",
       "[150 rows x 4 columns]"
      ]
     },
     "execution_count": 528,
     "metadata": {},
     "output_type": "execute_result"
    }
   ],
   "source": [
    "X_data"
   ]
  },
  {
   "cell_type": "code",
   "execution_count": 529,
   "metadata": {},
   "outputs": [],
   "source": [
    "# Function to calculate Euclidean distance between two points in x-y coordinate plane\n",
    "def EuclideanDistance(x1 , y1 , x2 , y2): \n",
    "    # Calculating the distance \n",
    "    return math.sqrt(math.pow(x2 - x1, 2) + math.pow(y2 - y1, 2)) "
   ]
  },
  {
   "cell_type": "code",
   "execution_count": 530,
   "metadata": {},
   "outputs": [],
   "source": [
    "#for calculating Euclidean distance between two vectors in a given dataset of rows\n",
    "def euclidian_distance(data1, data2, length):\n",
    "    distance = 0.00      #initializing distance as zero\n",
    "    for x in range(length):\n",
    "        distance += np.square(data1[x] - data2[x])\n",
    "    return np.sqrt(distance)"
   ]
  },
  {
   "cell_type": "code",
   "execution_count": 531,
   "metadata": {},
   "outputs": [],
   "source": [
    "def k_NN(train_data, test_data, k):\n",
    "    distances = {}\n",
    "    sort = {}\n",
    "    length = test_data.shape[1]\n",
    " \n",
    "    # Calculating euclidean distance between each row of training data and test data\n",
    "    for x in range(len(train_data)): \n",
    "        dist = euclidian_distance(test_data, train_data.iloc[x], length)\n",
    "        distances[x] = dist[0]\n",
    "    \n",
    "    # Sorting them on the basis of distance\n",
    "    sorted_d = sorted(distances.items(), key=operator.itemgetter(1)) #by using it we store indices also\n",
    "    sorted_d1 = sorted(distances.items())\n",
    "\n",
    "    neighbors = []    \n",
    "    # Extracting top k neighbors\n",
    "    for x in range(k):\n",
    "        neighbors.append(sorted_d[x][0])\n",
    "        counts = {\"Iris-setosa\": 0,\"Iris-versicolor\": 0,\"Iris-virginica\": 0}\n",
    "     \n",
    "    # Calculating the most freq class in the neighbors\n",
    "    for x in range(len(neighbors)):\n",
    "        output = train_data.iloc[neighbors[x]][-1]\n",
    "        if output in counts:\n",
    "            counts[output] += 1\n",
    "        else:\n",
    "            counts[output] = 1\n",
    "\n",
    "    sortedVotes = sorted(counts.items(), key=operator.itemgetter(1), reverse=True)\n",
    "\n",
    "    return(sortedVotes[0][0], neighbors)"
   ]
  },
  {
   "cell_type": "code",
   "execution_count": 532,
   "metadata": {},
   "outputs": [],
   "source": [
    "#returning the label of the test record using KNN\n",
    "label = k_NN(data, test1, k)"
   ]
  },
  {
   "cell_type": "code",
   "execution_count": 533,
   "metadata": {},
   "outputs": [
    {
     "name": "stdout",
     "output_type": "stream",
     "text": [
      "\n",
      "The given test set belongs to the flower class: 3.0\n",
      "Its neighbours are: [114, 106, 121, 113, 59]\n",
      "\n",
      "The given test set belongs to the flower class: 1.0\n",
      "Its neighbours are: [1, 45, 12, 9, 34]\n",
      "\n",
      "The given test set belongs to the flower class: 3.0\n",
      "Its neighbours are: [138, 127, 70, 126, 149]\n"
     ]
    }
   ],
   "source": [
    "dataset1 = [[5.1, 2.5, 3.2, 4.3]]\n",
    "test1 = pd.DataFrame(dataset1)\n",
    "Class, Neighbours = k_NN(data, test1, 5)       #here k=5\n",
    "print(\"\\nThe given test set belongs to the flower class:\", Class)\n",
    "print(\"Its neighbours are:\", Neighbours)\n",
    "\n",
    "dataset2 = [[4.9, 3, 1.4, 0.2]]\n",
    "test2 = pd.DataFrame(dataset2)\n",
    "Class, Neighbours = k_NN(data, test2, 5)       #here k=5\n",
    "print(\"\\nThe given test set belongs to the flower class:\", Class)\n",
    "print(\"Its neighbours are:\", Neighbours)\n",
    "\n",
    "dataset3 = [[6, 3, 4.8, 1.8]]\n",
    "test3 = pd.DataFrame(dataset3)\n",
    "Class, Neighbours = k_NN(data, test3, 5)       #here k=5\n",
    "print(\"\\nThe given test set belongs to the flower class:\", Class)\n",
    "print(\"Its neighbours are:\", Neighbours)"
   ]
  },
  {
   "cell_type": "code",
   "execution_count": 534,
   "metadata": {},
   "outputs": [],
   "source": [
    "from sklearn.datasets import load_iris\n",
    "from sklearn.model_selection import train_test_split\n",
    "from sklearn.neighbors import KNeighborsClassifier\n",
    "from sklearn import metrics\n",
    "import numpy as np\n",
    "iris = load_iris()"
   ]
  },
  {
   "cell_type": "code",
   "execution_count": 535,
   "metadata": {},
   "outputs": [],
   "source": [
    "X = iris.data\n",
    "Y = iris.target"
   ]
  },
  {
   "cell_type": "code",
   "execution_count": 536,
   "metadata": {},
   "outputs": [],
   "source": [
    "# Split dataset into training set and test set\n",
    "X_train, X_test, y_train, y_test = train_test_split(X, Y, test_size=0.3)# 70% training and 30% test"
   ]
  },
  {
   "cell_type": "code",
   "execution_count": 537,
   "metadata": {},
   "outputs": [
    {
     "name": "stdout",
     "output_type": "stream",
     "text": [
      "\n",
      "Accuracy % is: 97.77777777777777\n"
     ]
    }
   ],
   "source": [
    "#Create KNN Classifier\n",
    "knn = KNeighborsClassifier(n_neighbors=5)\n",
    "#Train the model using the training sets\n",
    "knn.fit(X_train, y_train)\n",
    "#Predict the response for test dataset\n",
    "y_pred = knn.predict(X_test)\n",
    "# Model Accuracy, how often is the classifier correct?\n",
    "Acc = metrics.accuracy_score(y_test, y_pred)\n",
    "print(\"\\nAccuracy % is:\", Acc*100)"
   ]
  },
  {
   "cell_type": "code",
   "execution_count": 538,
   "metadata": {},
   "outputs": [
    {
     "name": "stdout",
     "output_type": "stream",
     "text": [
      "\n",
      "Accuracy % is: 95.55555555555556\n"
     ]
    }
   ],
   "source": [
    "#Create KNN Classifier\n",
    "knn = KNeighborsClassifier(n_neighbors=3)\n",
    "#Train the model using the training sets\n",
    "knn.fit(X_train, y_train)\n",
    "#Predict the response for test dataset\n",
    "y_pred = knn.predict(X_test)\n",
    "# Model Accuracy, how often is the classifier correct?\n",
    "Acc = metrics.accuracy_score(y_test, y_pred)\n",
    "print(\"\\nAccuracy % is:\", Acc*100)"
   ]
  },
  {
   "cell_type": "code",
   "execution_count": 539,
   "metadata": {},
   "outputs": [
    {
     "name": "stdout",
     "output_type": "stream",
     "text": [
      "\n",
      "Accuracy % is: 100.0\n"
     ]
    }
   ],
   "source": [
    "#Create KNN Classifier\n",
    "knn = KNeighborsClassifier(n_neighbors=8)\n",
    "#Train the model using the training sets\n",
    "knn.fit(X_train, y_train)\n",
    "#Predict the response for test dataset\n",
    "y_pred = knn.predict(X_test)\n",
    "# Model Accuracy, how often is the classifier correct?\n",
    "Acc = metrics.accuracy_score(y_test, y_pred)\n",
    "print(\"\\nAccuracy % is:\", Acc*100)"
   ]
  },
  {
   "cell_type": "markdown",
   "metadata": {},
   "source": [
    "Here it is observed that, accuracy for k = 5 is 97.77 %\n",
    "\n",
    "And we observe that higher the k value, higher the accuracy. However, this is not necessary for every case that an increase in many neighbours increases the accuracy of the prediction."
   ]
  }
 ],
 "metadata": {
  "kernelspec": {
   "display_name": "Python 3",
   "language": "python",
   "name": "python3"
  },
  "language_info": {
   "codemirror_mode": {
    "name": "ipython",
    "version": 3
   },
   "file_extension": ".py",
   "mimetype": "text/x-python",
   "name": "python",
   "nbconvert_exporter": "python",
   "pygments_lexer": "ipython3",
   "version": "3.7.6"
  }
 },
 "nbformat": 4,
 "nbformat_minor": 4
}
