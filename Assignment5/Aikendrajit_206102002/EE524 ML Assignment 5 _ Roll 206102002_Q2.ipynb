{
 "cells": [
  {
   "cell_type": "markdown",
   "metadata": {},
   "source": [
    "# EE 524 Machine Learning Lab: Assignment 5"
   ]
  },
  {
   "cell_type": "markdown",
   "metadata": {},
   "source": [
    "- by Aikendrajit Roll no.: 206102002"
   ]
  },
  {
   "cell_type": "markdown",
   "metadata": {},
   "source": [
    "  "
   ]
  },
  {
   "cell_type": "markdown",
   "metadata": {},
   "source": [
    "K Means Algorithm: Go through the material on K Means shared in the work space. K Means is a very powerful algorithm for initial analysis of data as well as clustering. There are different types of k means but we will focus on\n",
    "the most basic one.\n",
    "\n",
    "(1). Dataset Load the dataset and read it as a csv file from here.\n",
    "(2). Visualization Plot the dataset using matplotlib.\n",
    "(3). K Means Algorithm Use the inbuilt algorithm for K Means in scikit learn. Vary k from 2 to 10 and plot the clusters in different colours to visualize.\n",
    "From the plots, which value of k is the most appropriate for this dataset."
   ]
  },
  {
   "cell_type": "code",
   "execution_count": 368,
   "metadata": {},
   "outputs": [],
   "source": [
    "import numpy as np\n",
    "import pandas as pd\n",
    "from sklearn.cluster import KMeans\n",
    "import matplotlib.pyplot as plt"
   ]
  },
  {
   "cell_type": "code",
   "execution_count": 369,
   "metadata": {},
   "outputs": [],
   "source": [
    "data = pd.read_csv(\"dataset.csv\")"
   ]
  },
  {
   "cell_type": "code",
   "execution_count": 370,
   "metadata": {},
   "outputs": [
    {
     "data": {
      "text/html": [
       "<div>\n",
       "<style scoped>\n",
       "    .dataframe tbody tr th:only-of-type {\n",
       "        vertical-align: middle;\n",
       "    }\n",
       "\n",
       "    .dataframe tbody tr th {\n",
       "        vertical-align: top;\n",
       "    }\n",
       "\n",
       "    .dataframe thead th {\n",
       "        text-align: right;\n",
       "    }\n",
       "</style>\n",
       "<table border=\"1\" class=\"dataframe\">\n",
       "  <thead>\n",
       "    <tr style=\"text-align: right;\">\n",
       "      <th></th>\n",
       "      <th>Unnamed: 0</th>\n",
       "      <th>feature1</th>\n",
       "      <th>feature2</th>\n",
       "    </tr>\n",
       "  </thead>\n",
       "  <tbody>\n",
       "    <tr>\n",
       "      <th>0</th>\n",
       "      <td>0</td>\n",
       "      <td>0.836857</td>\n",
       "      <td>2.136359</td>\n",
       "    </tr>\n",
       "    <tr>\n",
       "      <th>1</th>\n",
       "      <td>1</td>\n",
       "      <td>-1.413658</td>\n",
       "      <td>7.409623</td>\n",
       "    </tr>\n",
       "    <tr>\n",
       "      <th>2</th>\n",
       "      <td>2</td>\n",
       "      <td>1.155213</td>\n",
       "      <td>5.099619</td>\n",
       "    </tr>\n",
       "    <tr>\n",
       "      <th>3</th>\n",
       "      <td>3</td>\n",
       "      <td>-1.018616</td>\n",
       "      <td>7.814915</td>\n",
       "    </tr>\n",
       "    <tr>\n",
       "      <th>4</th>\n",
       "      <td>4</td>\n",
       "      <td>1.271351</td>\n",
       "      <td>1.892542</td>\n",
       "    </tr>\n",
       "    <tr>\n",
       "      <th>5</th>\n",
       "      <td>5</td>\n",
       "      <td>3.437618</td>\n",
       "      <td>0.261654</td>\n",
       "    </tr>\n",
       "    <tr>\n",
       "      <th>6</th>\n",
       "      <td>6</td>\n",
       "      <td>-1.808223</td>\n",
       "      <td>1.597017</td>\n",
       "    </tr>\n",
       "    <tr>\n",
       "      <th>7</th>\n",
       "      <td>7</td>\n",
       "      <td>1.413724</td>\n",
       "      <td>4.381177</td>\n",
       "    </tr>\n",
       "    <tr>\n",
       "      <th>8</th>\n",
       "      <td>8</td>\n",
       "      <td>-0.204932</td>\n",
       "      <td>8.432097</td>\n",
       "    </tr>\n",
       "    <tr>\n",
       "      <th>9</th>\n",
       "      <td>9</td>\n",
       "      <td>-0.711100</td>\n",
       "      <td>8.660438</td>\n",
       "    </tr>\n",
       "  </tbody>\n",
       "</table>\n",
       "</div>"
      ],
      "text/plain": [
       "   Unnamed: 0  feature1  feature2\n",
       "0           0  0.836857  2.136359\n",
       "1           1 -1.413658  7.409623\n",
       "2           2  1.155213  5.099619\n",
       "3           3 -1.018616  7.814915\n",
       "4           4  1.271351  1.892542\n",
       "5           5  3.437618  0.261654\n",
       "6           6 -1.808223  1.597017\n",
       "7           7  1.413724  4.381177\n",
       "8           8 -0.204932  8.432097\n",
       "9           9 -0.711100  8.660438"
      ]
     },
     "execution_count": 370,
     "metadata": {},
     "output_type": "execute_result"
    }
   ],
   "source": [
    "data.head(10)"
   ]
  },
  {
   "cell_type": "code",
   "execution_count": 371,
   "metadata": {},
   "outputs": [
    {
     "data": {
      "text/plain": [
       "(300, 3)"
      ]
     },
     "execution_count": 371,
     "metadata": {},
     "output_type": "execute_result"
    }
   ],
   "source": [
    "data.shape"
   ]
  },
  {
   "cell_type": "code",
   "execution_count": 372,
   "metadata": {},
   "outputs": [
    {
     "data": {
      "text/plain": [
       "Text(0, 0.5, '$feature2$')"
      ]
     },
     "execution_count": 372,
     "metadata": {},
     "output_type": "execute_result"
    },
    {
     "data": {
      "image/png": "[encoded data removed]",
      "text/plain": [
       "<Figure size 720x432 with 1 Axes>"
      ]
     },
     "metadata": {
      "needs_background": "light"
     },
     "output_type": "display_data"
    }
   ],
   "source": [
    "import matplotlib.pyplot as plt\n",
    "# figure size\n",
    "plt.figure(figsize=(10, 6))\n",
    "# scatter feature1 against the feature2\n",
    "plt.scatter(data['feature1'], data['feature2'], c='brown')\n",
    "\n",
    "# set a title and labels\n",
    "plt.title('$dataset$')\n",
    "plt.xlabel('$feature1$')\n",
    "plt.ylabel('$feature2$')"
   ]
  },
  {
   "cell_type": "code",
   "execution_count": 373,
   "metadata": {
    "scrolled": false
   },
   "outputs": [],
   "source": [
    "import matplotlib.pyplot as plt\n",
    "%matplotlib inline\n",
    "from sklearn.cluster import KMeans"
   ]
  },
  {
   "cell_type": "code",
   "execution_count": 374,
   "metadata": {},
   "outputs": [
    {
     "name": "stdout",
     "output_type": "stream",
     "text": [
      "KMeans(algorithm='auto', copy_x=True, init='k-means++', max_iter=300,\n",
      "       n_clusters=2, n_init=10, n_jobs=None, precompute_distances='auto',\n",
      "       random_state=None, tol=0.0001, verbose=0)\n",
      "[0 1 0 1 0 0 0 0 1 1 0 1 0 1 0 0 0 0 0 0 0 0 0 0 0 0 0 0 0 0 1 1 0 1 1 1 1\n",
      " 1 0 0 0 0 1 0 0 0 1 0 1 0 0 0 1 0 0 0 1 0 1 0 1 0 1 0 0 0 1 0 1 0 0 0 1 0\n",
      " 0 1 0 0 0 1 0 0 0 0 1 0 0 0 1 1 0 0 1 0 0 0 0 0 1 0 1 0 1 0 0 0 0 0 1 0 0\n",
      " 0 0 1 0 0 1 0 0 0 0 0 0 0 0 0 0 0 0 0 1 0 0 0 1 0 0 1 0 1 1 0 0 0 0 0 1 0\n",
      " 1 1 1 0 1 0 0 0 1 0 0 0 1 0 0 0 0 0 0 0 0 0 0 1 0 0 0 1 0 0 0 0 0 0 0 0 0\n",
      " 0 0 0 0 1 0 0 0 0 0 0 0 0 0 1 0 0 0 0 0 1 0 1 0 1 0 0 0 0 1 0 0 0 0 0 1 0\n",
      " 0 0 0 0 0 1 1 0 0 1 0 0 0 0 0 0 1 0 0 0 0 1 1 1 1 0 0 1 0 0 0 0 0 0 0 0 0\n",
      " 1 0 0 0 0 1 0 0 1 0 0 0 0 0 0 0 0 0 0 1 1 0 0 0 0 0 0 1 0 1 0 0 0 1 1 1 0\n",
      " 0 0 1 0]\n"
     ]
    },
    {
     "data": {
      "text/html": [
       "<div>\n",
       "<style scoped>\n",
       "    .dataframe tbody tr th:only-of-type {\n",
       "        vertical-align: middle;\n",
       "    }\n",
       "\n",
       "    .dataframe tbody tr th {\n",
       "        vertical-align: top;\n",
       "    }\n",
       "\n",
       "    .dataframe thead th {\n",
       "        text-align: right;\n",
       "    }\n",
       "</style>\n",
       "<table border=\"1\" class=\"dataframe\">\n",
       "  <thead>\n",
       "    <tr style=\"text-align: right;\">\n",
       "      <th></th>\n",
       "      <th>Unnamed: 0</th>\n",
       "      <th>feature1</th>\n",
       "      <th>feature2</th>\n",
       "      <th>cluster</th>\n",
       "    </tr>\n",
       "  </thead>\n",
       "  <tbody>\n",
       "    <tr>\n",
       "      <th>0</th>\n",
       "      <td>0</td>\n",
       "      <td>0.836857</td>\n",
       "      <td>2.136359</td>\n",
       "      <td>0</td>\n",
       "    </tr>\n",
       "    <tr>\n",
       "      <th>1</th>\n",
       "      <td>1</td>\n",
       "      <td>-1.413658</td>\n",
       "      <td>7.409623</td>\n",
       "      <td>1</td>\n",
       "    </tr>\n",
       "    <tr>\n",
       "      <th>2</th>\n",
       "      <td>2</td>\n",
       "      <td>1.155213</td>\n",
       "      <td>5.099619</td>\n",
       "      <td>0</td>\n",
       "    </tr>\n",
       "    <tr>\n",
       "      <th>3</th>\n",
       "      <td>3</td>\n",
       "      <td>-1.018616</td>\n",
       "      <td>7.814915</td>\n",
       "      <td>1</td>\n",
       "    </tr>\n",
       "    <tr>\n",
       "      <th>4</th>\n",
       "      <td>4</td>\n",
       "      <td>1.271351</td>\n",
       "      <td>1.892542</td>\n",
       "      <td>0</td>\n",
       "    </tr>\n",
       "  </tbody>\n",
       "</table>\n",
       "</div>"
      ],
      "text/plain": [
       "   Unnamed: 0  feature1  feature2  cluster\n",
       "0           0  0.836857  2.136359        0\n",
       "1           1 -1.413658  7.409623        1\n",
       "2           2  1.155213  5.099619        0\n",
       "3           3 -1.018616  7.814915        1\n",
       "4           4  1.271351  1.892542        0"
      ]
     },
     "execution_count": 374,
     "metadata": {},
     "output_type": "execute_result"
    }
   ],
   "source": [
    "# for k = 2\n",
    "\n",
    "km = KMeans(n_clusters=2)\n",
    "print(km)\n",
    "\n",
    "y_predicted = km.fit_predict(data[['feature1','feature2']])\n",
    "print(y_predicted)\n",
    "\n",
    "data['cluster'] = y_predicted\n",
    "data.head()"
   ]
  },
  {
   "cell_type": "code",
   "execution_count": 375,
   "metadata": {},
   "outputs": [
    {
     "data": {
      "text/plain": [
       "<function matplotlib.pyplot.legend(*args, **kwargs)>"
      ]
     },
     "execution_count": 375,
     "metadata": {},
     "output_type": "execute_result"
    },
    {
     "data": {
      "image/png": "[encoded data removed]",
      "text/plain": [
       "<Figure size 720x432 with 1 Axes>"
      ]
     },
     "metadata": {
      "needs_background": "light"
     },
     "output_type": "display_data"
    }
   ],
   "source": [
    "data1 = data[data.cluster == 0]\n",
    "data2 = data[data.cluster == 1]\n",
    "\n",
    "plt.figure(figsize=(10, 6))\n",
    "plt.scatter(data1['feature1'], data1['feature2'], color = 'blue')\n",
    "plt.scatter(data2['feature1'], data2['feature2'], color = 'orange')\n",
    "\n",
    "plt.title('for k = 2')\n",
    "plt.xlabel('$feature1$')\n",
    "plt.ylabel('$feature2$')\n",
    "plt.legend"
   ]
  },
  {
   "cell_type": "code",
   "execution_count": 376,
   "metadata": {},
   "outputs": [
    {
     "name": "stdout",
     "output_type": "stream",
     "text": [
      "[2 0 1 0 2 2 1 1 0 0 1 0 1 0 2 1 1 2 1 1 2 2 1 1 1 1 2 1 1 1 0 0 1 0 0 0 0\n",
      " 0 1 2 1 1 1 1 1 1 0 1 0 2 1 2 0 2 2 1 0 1 0 2 0 1 0 1 1 1 0 2 0 1 1 1 0 1\n",
      " 1 0 1 1 2 0 2 1 2 2 0 1 2 1 0 0 1 2 0 1 1 1 2 2 1 1 0 2 0 2 1 2 2 1 0 1 1\n",
      " 1 2 0 2 1 0 2 2 1 1 2 1 2 2 2 2 1 2 1 0 1 1 2 0 1 1 0 1 0 0 1 1 1 1 1 0 1\n",
      " 0 0 0 1 0 1 2 1 0 1 2 1 0 1 1 2 1 1 1 1 2 1 1 0 2 1 1 0 2 2 1 1 2 1 1 1 1\n",
      " 1 1 1 2 0 1 1 1 1 1 1 1 1 1 0 1 1 2 1 1 0 1 0 1 0 1 1 1 1 0 1 1 2 2 1 0 2\n",
      " 2 1 2 1 1 0 0 1 1 0 1 2 1 1 2 1 0 1 2 1 2 0 0 0 0 1 1 0 1 1 2 1 1 1 1 2 2\n",
      " 0 1 1 1 2 0 1 1 0 1 2 2 1 1 2 2 2 2 1 0 0 2 2 1 2 2 2 0 1 0 1 2 2 0 0 0 2\n",
      " 2 1 0 1]\n"
     ]
    },
    {
     "data": {
      "text/html": [
       "<div>\n",
       "<style scoped>\n",
       "    .dataframe tbody tr th:only-of-type {\n",
       "        vertical-align: middle;\n",
       "    }\n",
       "\n",
       "    .dataframe tbody tr th {\n",
       "        vertical-align: top;\n",
       "    }\n",
       "\n",
       "    .dataframe thead th {\n",
       "        text-align: right;\n",
       "    }\n",
       "</style>\n",
       "<table border=\"1\" class=\"dataframe\">\n",
       "  <thead>\n",
       "    <tr style=\"text-align: right;\">\n",
       "      <th></th>\n",
       "      <th>Unnamed: 0</th>\n",
       "      <th>feature1</th>\n",
       "      <th>feature2</th>\n",
       "      <th>cluster</th>\n",
       "    </tr>\n",
       "  </thead>\n",
       "  <tbody>\n",
       "    <tr>\n",
       "      <th>0</th>\n",
       "      <td>0</td>\n",
       "      <td>0.836857</td>\n",
       "      <td>2.136359</td>\n",
       "      <td>2</td>\n",
       "    </tr>\n",
       "    <tr>\n",
       "      <th>1</th>\n",
       "      <td>1</td>\n",
       "      <td>-1.413658</td>\n",
       "      <td>7.409623</td>\n",
       "      <td>0</td>\n",
       "    </tr>\n",
       "    <tr>\n",
       "      <th>2</th>\n",
       "      <td>2</td>\n",
       "      <td>1.155213</td>\n",
       "      <td>5.099619</td>\n",
       "      <td>1</td>\n",
       "    </tr>\n",
       "    <tr>\n",
       "      <th>3</th>\n",
       "      <td>3</td>\n",
       "      <td>-1.018616</td>\n",
       "      <td>7.814915</td>\n",
       "      <td>0</td>\n",
       "    </tr>\n",
       "    <tr>\n",
       "      <th>4</th>\n",
       "      <td>4</td>\n",
       "      <td>1.271351</td>\n",
       "      <td>1.892542</td>\n",
       "      <td>2</td>\n",
       "    </tr>\n",
       "  </tbody>\n",
       "</table>\n",
       "</div>"
      ],
      "text/plain": [
       "   Unnamed: 0  feature1  feature2  cluster\n",
       "0           0  0.836857  2.136359        2\n",
       "1           1 -1.413658  7.409623        0\n",
       "2           2  1.155213  5.099619        1\n",
       "3           3 -1.018616  7.814915        0\n",
       "4           4  1.271351  1.892542        2"
      ]
     },
     "execution_count": 376,
     "metadata": {},
     "output_type": "execute_result"
    }
   ],
   "source": [
    "# for k = 3\n",
    "\n",
    "km = KMeans(n_clusters=3)\n",
    "y_predicted = km.fit_predict(data[['feature1','feature2']])\n",
    "print(y_predicted)\n",
    "\n",
    "data['cluster'] = y_predicted\n",
    "data.head()"
   ]
  },
  {
   "cell_type": "code",
   "execution_count": 377,
   "metadata": {},
   "outputs": [
    {
     "data": {
      "text/plain": [
       "<function matplotlib.pyplot.legend(*args, **kwargs)>"
      ]
     },
     "execution_count": 377,
     "metadata": {},
     "output_type": "execute_result"
    },
    {
     "data": {
      "image/png": "[encoded data removed]",
      "text/plain": [
       "<Figure size 720x432 with 1 Axes>"
      ]
     },
     "metadata": {
      "needs_background": "light"
     },
     "output_type": "display_data"
    }
   ],
   "source": [
    "data1 = data[data.cluster == 0]\n",
    "data2 = data[data.cluster == 1]\n",
    "data3 = data[data.cluster == 2]\n",
    "\n",
    "plt.figure(figsize=(10, 6))\n",
    "plt.scatter(data1['feature1'], data1['feature2'], color = 'blue')\n",
    "plt.scatter(data2['feature1'], data2['feature2'], color = 'orange')\n",
    "plt.scatter(data3['feature1'], data3['feature2'], color = 'pink')\n",
    "\n",
    "plt.title('for k = 3')\n",
    "plt.xlabel('$feature1$')\n",
    "plt.ylabel('$feature2$')\n",
    "plt.legend"
   ]
  },
  {
   "cell_type": "code",
   "execution_count": 378,
   "metadata": {},
   "outputs": [
    {
     "name": "stdout",
     "output_type": "stream",
     "text": [
      "[3 1 0 1 3 3 2 0 1 1 2 1 0 1 3 0 0 3 2 2 3 3 0 2 2 0 3 0 2 0 1 1 0 1 1 1 1\n",
      " 1 2 3 0 2 0 0 2 2 1 2 1 3 2 3 1 3 3 2 1 2 1 3 1 0 1 2 2 2 1 3 1 2 0 2 1 2\n",
      " 2 1 2 0 3 1 3 0 3 3 1 0 3 0 1 1 0 3 1 2 2 0 3 3 0 2 1 3 1 3 0 3 3 0 1 0 2\n",
      " 2 3 1 3 0 1 3 3 0 2 3 2 3 3 3 3 2 3 2 1 2 2 3 1 2 2 1 0 1 1 2 0 2 0 2 1 0\n",
      " 1 1 1 0 1 0 3 2 1 2 3 0 1 0 0 3 0 2 2 0 3 0 0 1 3 0 2 1 3 3 0 2 3 0 2 2 0\n",
      " 0 0 0 3 1 0 2 0 0 2 2 2 0 2 1 0 2 3 2 0 1 2 1 0 1 0 2 0 0 1 2 2 3 3 0 1 3\n",
      " 3 2 3 2 0 1 1 0 0 1 0 3 2 0 3 2 1 2 3 0 3 1 1 1 1 2 2 1 0 2 3 0 2 2 2 3 3\n",
      " 1 0 0 2 3 1 2 0 1 0 3 3 2 2 0 3 3 3 0 1 1 3 3 0 3 3 3 1 2 1 0 3 3 1 1 1 3\n",
      " 3 0 1 2]\n"
     ]
    },
    {
     "data": {
      "text/html": [
       "<div>\n",
       "<style scoped>\n",
       "    .dataframe tbody tr th:only-of-type {\n",
       "        vertical-align: middle;\n",
       "    }\n",
       "\n",
       "    .dataframe tbody tr th {\n",
       "        vertical-align: top;\n",
       "    }\n",
       "\n",
       "    .dataframe thead th {\n",
       "        text-align: right;\n",
       "    }\n",
       "</style>\n",
       "<table border=\"1\" class=\"dataframe\">\n",
       "  <thead>\n",
       "    <tr style=\"text-align: right;\">\n",
       "      <th></th>\n",
       "      <th>Unnamed: 0</th>\n",
       "      <th>feature1</th>\n",
       "      <th>feature2</th>\n",
       "      <th>cluster</th>\n",
       "    </tr>\n",
       "  </thead>\n",
       "  <tbody>\n",
       "    <tr>\n",
       "      <th>0</th>\n",
       "      <td>0</td>\n",
       "      <td>0.836857</td>\n",
       "      <td>2.136359</td>\n",
       "      <td>3</td>\n",
       "    </tr>\n",
       "    <tr>\n",
       "      <th>1</th>\n",
       "      <td>1</td>\n",
       "      <td>-1.413658</td>\n",
       "      <td>7.409623</td>\n",
       "      <td>1</td>\n",
       "    </tr>\n",
       "    <tr>\n",
       "      <th>2</th>\n",
       "      <td>2</td>\n",
       "      <td>1.155213</td>\n",
       "      <td>5.099619</td>\n",
       "      <td>0</td>\n",
       "    </tr>\n",
       "    <tr>\n",
       "      <th>3</th>\n",
       "      <td>3</td>\n",
       "      <td>-1.018616</td>\n",
       "      <td>7.814915</td>\n",
       "      <td>1</td>\n",
       "    </tr>\n",
       "    <tr>\n",
       "      <th>4</th>\n",
       "      <td>4</td>\n",
       "      <td>1.271351</td>\n",
       "      <td>1.892542</td>\n",
       "      <td>3</td>\n",
       "    </tr>\n",
       "  </tbody>\n",
       "</table>\n",
       "</div>"
      ],
      "text/plain": [
       "   Unnamed: 0  feature1  feature2  cluster\n",
       "0           0  0.836857  2.136359        3\n",
       "1           1 -1.413658  7.409623        1\n",
       "2           2  1.155213  5.099619        0\n",
       "3           3 -1.018616  7.814915        1\n",
       "4           4  1.271351  1.892542        3"
      ]
     },
     "execution_count": 378,
     "metadata": {},
     "output_type": "execute_result"
    }
   ],
   "source": [
    "# for k = 4\n",
    "\n",
    "km = KMeans(n_clusters=4)\n",
    "y_predicted = km.fit_predict(data[['feature1','feature2']])\n",
    "print(y_predicted)\n",
    "\n",
    "data['cluster'] = y_predicted\n",
    "data.head()"
   ]
  },
  {
   "cell_type": "code",
   "execution_count": 379,
   "metadata": {},
   "outputs": [
    {
     "data": {
      "text/plain": [
       "<function matplotlib.pyplot.legend(*args, **kwargs)>"
      ]
     },
     "execution_count": 379,
     "metadata": {},
     "output_type": "execute_result"
    },
    {
     "data": {
      "image/png": "[encoded data removed]",
      "text/plain": [
       "<Figure size 720x432 with 1 Axes>"
      ]
     },
     "metadata": {
      "needs_background": "light"
     },
     "output_type": "display_data"
    }
   ],
   "source": [
    "data1 = data[data.cluster == 0]\n",
    "data2 = data[data.cluster == 1]\n",
    "data3 = data[data.cluster == 2]\n",
    "data4 = data[data.cluster == 3]\n",
    "\n",
    "plt.figure(figsize=(10, 6))\n",
    "plt.scatter(data1['feature1'], data1['feature2'], color = 'blue')\n",
    "plt.scatter(data2['feature1'], data2['feature2'], color = 'orange')\n",
    "plt.scatter(data3['feature1'], data3['feature2'], color = 'pink')\n",
    "plt.scatter(data4['feature1'], data4['feature2'], color = 'green')\n",
    "\n",
    "plt.title('for k = 4')\n",
    "plt.xlabel('$feature1$')\n",
    "plt.ylabel('$feature2$')\n",
    "plt.legend"
   ]
  },
  {
   "cell_type": "code",
   "execution_count": 380,
   "metadata": {},
   "outputs": [
    {
     "name": "stdout",
     "output_type": "stream",
     "text": [
      "[1 2 0 4 1 1 3 0 4 4 3 2 0 2 1 0 0 1 3 3 1 1 0 3 3 0 1 0 3 0 4 2 0 2 2 2 2\n",
      " 2 3 1 0 3 0 0 3 3 4 3 2 1 3 1 4 1 1 3 4 3 2 1 2 0 4 3 3 3 2 1 2 3 0 3 4 3\n",
      " 3 4 3 0 1 4 1 0 1 1 4 0 1 0 2 2 0 1 4 3 3 0 1 1 0 3 4 1 4 1 0 1 1 0 2 0 3\n",
      " 3 1 2 1 0 2 1 1 0 3 1 3 1 1 1 1 3 1 3 4 3 3 1 2 3 3 2 0 4 2 3 0 3 0 3 2 0\n",
      " 2 2 2 0 2 0 1 3 4 3 1 0 2 0 0 1 0 3 3 0 1 0 0 4 1 0 3 4 1 1 0 3 1 0 3 3 0\n",
      " 0 0 0 1 2 0 3 0 0 3 3 3 0 3 2 0 3 1 3 0 2 3 4 0 2 0 3 0 0 2 3 3 1 1 0 2 1\n",
      " 1 3 1 3 0 4 4 0 0 4 0 1 3 0 1 3 4 3 1 0 1 2 2 2 2 3 3 2 0 3 1 0 3 3 3 1 1\n",
      " 2 0 0 3 1 4 3 0 4 0 1 1 3 3 0 1 1 1 0 4 2 1 1 0 1 1 1 2 3 4 0 1 1 2 4 4 1\n",
      " 1 0 4 3]\n"
     ]
    },
    {
     "data": {
      "text/html": [
       "<div>\n",
       "<style scoped>\n",
       "    .dataframe tbody tr th:only-of-type {\n",
       "        vertical-align: middle;\n",
       "    }\n",
       "\n",
       "    .dataframe tbody tr th {\n",
       "        vertical-align: top;\n",
       "    }\n",
       "\n",
       "    .dataframe thead th {\n",
       "        text-align: right;\n",
       "    }\n",
       "</style>\n",
       "<table border=\"1\" class=\"dataframe\">\n",
       "  <thead>\n",
       "    <tr style=\"text-align: right;\">\n",
       "      <th></th>\n",
       "      <th>Unnamed: 0</th>\n",
       "      <th>feature1</th>\n",
       "      <th>feature2</th>\n",
       "      <th>cluster</th>\n",
       "    </tr>\n",
       "  </thead>\n",
       "  <tbody>\n",
       "    <tr>\n",
       "      <th>0</th>\n",
       "      <td>0</td>\n",
       "      <td>0.836857</td>\n",
       "      <td>2.136359</td>\n",
       "      <td>1</td>\n",
       "    </tr>\n",
       "    <tr>\n",
       "      <th>1</th>\n",
       "      <td>1</td>\n",
       "      <td>-1.413658</td>\n",
       "      <td>7.409623</td>\n",
       "      <td>2</td>\n",
       "    </tr>\n",
       "    <tr>\n",
       "      <th>2</th>\n",
       "      <td>2</td>\n",
       "      <td>1.155213</td>\n",
       "      <td>5.099619</td>\n",
       "      <td>0</td>\n",
       "    </tr>\n",
       "    <tr>\n",
       "      <th>3</th>\n",
       "      <td>3</td>\n",
       "      <td>-1.018616</td>\n",
       "      <td>7.814915</td>\n",
       "      <td>4</td>\n",
       "    </tr>\n",
       "    <tr>\n",
       "      <th>4</th>\n",
       "      <td>4</td>\n",
       "      <td>1.271351</td>\n",
       "      <td>1.892542</td>\n",
       "      <td>1</td>\n",
       "    </tr>\n",
       "  </tbody>\n",
       "</table>\n",
       "</div>"
      ],
      "text/plain": [
       "   Unnamed: 0  feature1  feature2  cluster\n",
       "0           0  0.836857  2.136359        1\n",
       "1           1 -1.413658  7.409623        2\n",
       "2           2  1.155213  5.099619        0\n",
       "3           3 -1.018616  7.814915        4\n",
       "4           4  1.271351  1.892542        1"
      ]
     },
     "execution_count": 380,
     "metadata": {},
     "output_type": "execute_result"
    }
   ],
   "source": [
    "# for k = 5\n",
    "\n",
    "km = KMeans(n_clusters=5)\n",
    "y_predicted = km.fit_predict(data[['feature1','feature2']])\n",
    "print(y_predicted)\n",
    "\n",
    "data['cluster'] = y_predicted\n",
    "data.head()"
   ]
  },
  {
   "cell_type": "code",
   "execution_count": 381,
   "metadata": {},
   "outputs": [
    {
     "data": {
      "text/plain": [
       "<function matplotlib.pyplot.legend(*args, **kwargs)>"
      ]
     },
     "execution_count": 381,
     "metadata": {},
     "output_type": "execute_result"
    },
    {
     "data": {
      "image/png": "[encoded data removed]",
      "text/plain": [
       "<Figure size 720x432 with 1 Axes>"
      ]
     },
     "metadata": {
      "needs_background": "light"
     },
     "output_type": "display_data"
    }
   ],
   "source": [
    "data1 = data[data.cluster == 0]\n",
    "data2 = data[data.cluster == 1]\n",
    "data3 = data[data.cluster == 2]\n",
    "data4 = data[data.cluster == 3]\n",
    "data5 = data[data.cluster == 4]\n",
    "\n",
    "plt.figure(figsize=(10, 6))\n",
    "plt.scatter(data1['feature1'], data1['feature2'], color = 'blue')\n",
    "plt.scatter(data2['feature1'], data2['feature2'], color = 'orange')\n",
    "plt.scatter(data3['feature1'], data3['feature2'], color = 'pink')\n",
    "plt.scatter(data4['feature1'], data4['feature2'], color = 'green')\n",
    "plt.scatter(data5['feature1'], data5['feature2'], color = 'brown')\n",
    "\n",
    "plt.title('for k = 5')\n",
    "plt.xlabel('$feature1$')\n",
    "plt.ylabel('$feature2$')\n",
    "plt.legend"
   ]
  },
  {
   "cell_type": "code",
   "execution_count": 382,
   "metadata": {},
   "outputs": [
    {
     "name": "stdout",
     "output_type": "stream",
     "text": [
      "KMeans(algorithm='auto', copy_x=True, init='k-means++', max_iter=300,\n",
      "       n_clusters=6, n_init=10, n_jobs=None, precompute_distances='auto',\n",
      "       random_state=None, tol=0.0001, verbose=0)\n",
      "[2 4 3 1 2 2 0 3 1 1 0 4 3 4 2 5 3 2 0 0 2 2 5 0 0 5 2 5 0 5 1 4 3 4 4 4 4\n",
      " 4 0 2 5 0 5 3 0 0 1 0 4 2 0 2 1 2 2 0 1 0 4 2 4 5 1 0 0 0 4 2 4 0 3 0 1 0\n",
      " 0 1 0 3 2 1 2 5 2 2 1 5 2 5 4 4 5 2 4 0 0 3 2 2 5 0 1 2 1 2 3 2 2 3 4 5 0\n",
      " 0 2 4 2 3 4 2 2 5 0 2 0 2 2 2 2 0 2 0 1 0 0 2 4 0 0 4 5 1 4 0 3 0 3 0 4 5\n",
      " 4 4 4 5 4 5 2 0 1 0 2 3 4 5 5 2 5 0 0 5 2 3 3 1 2 3 0 1 2 2 5 0 2 3 0 0 5\n",
      " 3 5 5 2 4 5 0 3 5 0 0 0 3 0 4 3 0 2 0 3 4 0 1 3 4 3 0 5 3 4 0 0 2 2 5 4 2\n",
      " 2 0 2 0 5 1 1 3 3 1 5 2 0 5 2 0 1 0 2 5 2 4 4 4 4 0 0 4 3 0 2 5 0 0 5 2 2\n",
      " 4 5 5 0 2 1 0 3 1 5 2 2 0 0 3 2 2 2 3 1 4 2 2 3 2 2 2 4 0 1 3 2 2 4 1 1 2\n",
      " 2 5 1 0]\n"
     ]
    },
    {
     "data": {
      "text/html": [
       "<div>\n",
       "<style scoped>\n",
       "    .dataframe tbody tr th:only-of-type {\n",
       "        vertical-align: middle;\n",
       "    }\n",
       "\n",
       "    .dataframe tbody tr th {\n",
       "        vertical-align: top;\n",
       "    }\n",
       "\n",
       "    .dataframe thead th {\n",
       "        text-align: right;\n",
       "    }\n",
       "</style>\n",
       "<table border=\"1\" class=\"dataframe\">\n",
       "  <thead>\n",
       "    <tr style=\"text-align: right;\">\n",
       "      <th></th>\n",
       "      <th>Unnamed: 0</th>\n",
       "      <th>feature1</th>\n",
       "      <th>feature2</th>\n",
       "      <th>cluster</th>\n",
       "    </tr>\n",
       "  </thead>\n",
       "  <tbody>\n",
       "    <tr>\n",
       "      <th>0</th>\n",
       "      <td>0</td>\n",
       "      <td>0.836857</td>\n",
       "      <td>2.136359</td>\n",
       "      <td>2</td>\n",
       "    </tr>\n",
       "    <tr>\n",
       "      <th>1</th>\n",
       "      <td>1</td>\n",
       "      <td>-1.413658</td>\n",
       "      <td>7.409623</td>\n",
       "      <td>4</td>\n",
       "    </tr>\n",
       "    <tr>\n",
       "      <th>2</th>\n",
       "      <td>2</td>\n",
       "      <td>1.155213</td>\n",
       "      <td>5.099619</td>\n",
       "      <td>3</td>\n",
       "    </tr>\n",
       "    <tr>\n",
       "      <th>3</th>\n",
       "      <td>3</td>\n",
       "      <td>-1.018616</td>\n",
       "      <td>7.814915</td>\n",
       "      <td>1</td>\n",
       "    </tr>\n",
       "    <tr>\n",
       "      <th>4</th>\n",
       "      <td>4</td>\n",
       "      <td>1.271351</td>\n",
       "      <td>1.892542</td>\n",
       "      <td>2</td>\n",
       "    </tr>\n",
       "  </tbody>\n",
       "</table>\n",
       "</div>"
      ],
      "text/plain": [
       "   Unnamed: 0  feature1  feature2  cluster\n",
       "0           0  0.836857  2.136359        2\n",
       "1           1 -1.413658  7.409623        4\n",
       "2           2  1.155213  5.099619        3\n",
       "3           3 -1.018616  7.814915        1\n",
       "4           4  1.271351  1.892542        2"
      ]
     },
     "execution_count": 382,
     "metadata": {},
     "output_type": "execute_result"
    }
   ],
   "source": [
    "# for k = 6\n",
    "\n",
    "km = KMeans(n_clusters=6)\n",
    "print(km)\n",
    "\n",
    "y_predicted = km.fit_predict(data[['feature1','feature2']])\n",
    "print(y_predicted)\n",
    "\n",
    "data['cluster'] = y_predicted\n",
    "data.head()"
   ]
  },
  {
   "cell_type": "code",
   "execution_count": 383,
   "metadata": {},
   "outputs": [
    {
     "data": {
      "text/plain": [
       "<function matplotlib.pyplot.legend(*args, **kwargs)>"
      ]
     },
     "execution_count": 383,
     "metadata": {},
     "output_type": "execute_result"
    },
    {
     "data": {
      "image/png": "[encoded data removed]",
      "text/plain": [
       "<Figure size 720x432 with 1 Axes>"
      ]
     },
     "metadata": {
      "needs_background": "light"
     },
     "output_type": "display_data"
    }
   ],
   "source": [
    "data1 = data[data.cluster == 0]\n",
    "data2 = data[data.cluster == 1]\n",
    "data3 = data[data.cluster == 2]\n",
    "data4 = data[data.cluster == 3]\n",
    "data5 = data[data.cluster == 4]\n",
    "data6 = data[data.cluster == 5]\n",
    "\n",
    "plt.figure(figsize=(10, 6))\n",
    "plt.scatter(data1['feature1'], data1['feature2'], color = 'blue')\n",
    "plt.scatter(data2['feature1'], data2['feature2'], color = 'orange')\n",
    "plt.scatter(data3['feature1'], data3['feature2'], color = 'pink')\n",
    "plt.scatter(data4['feature1'], data4['feature2'], color = 'green')\n",
    "plt.scatter(data5['feature1'], data5['feature2'], color = 'brown')\n",
    "plt.scatter(data6['feature1'], data6['feature2'], color = 'red')\n",
    "\n",
    "plt.title('for k = 6')\n",
    "plt.xlabel('$feature1$')\n",
    "plt.ylabel('$feature2$')\n",
    "plt.legend"
   ]
  },
  {
   "cell_type": "code",
   "execution_count": 384,
   "metadata": {},
   "outputs": [
    {
     "name": "stdout",
     "output_type": "stream",
     "text": [
      "KMeans(algorithm='auto', copy_x=True, init='k-means++', max_iter=300,\n",
      "       n_clusters=7, n_init=10, n_jobs=None, precompute_distances='auto',\n",
      "       random_state=None, tol=0.0001, verbose=0)\n",
      "[5 1 3 4 5 2 0 6 4 4 0 1 6 1 5 3 3 2 0 0 2 5 3 0 0 3 5 3 0 3 4 1 6 1 1 1 1\n",
      " 1 0 5 3 0 3 6 0 0 4 0 1 5 0 2 4 5 5 0 4 0 1 5 1 3 4 0 0 0 1 2 1 0 6 0 4 0\n",
      " 0 4 0 6 2 4 5 3 5 5 4 3 2 3 1 1 3 5 1 0 0 6 5 2 3 0 4 2 4 2 3 2 2 6 1 3 0\n",
      " 0 5 1 5 6 1 5 5 3 0 5 0 5 5 5 5 0 5 0 4 0 0 2 1 0 0 1 3 4 1 0 6 0 6 0 1 3\n",
      " 1 1 1 3 1 3 5 0 4 0 5 3 1 3 3 5 3 0 0 3 5 6 6 4 5 6 0 4 2 2 3 0 2 6 0 0 3\n",
      " 6 3 3 2 1 3 0 3 3 0 0 0 6 0 1 6 0 2 0 6 1 0 4 3 1 6 0 3 6 1 0 0 2 2 3 1 2\n",
      " 2 0 5 0 3 4 4 6 3 4 3 5 0 3 2 0 4 0 2 3 2 1 1 1 1 0 0 1 6 0 5 3 0 0 3 2 2\n",
      " 1 3 3 0 5 4 0 6 4 3 2 5 0 0 6 2 2 5 6 4 1 2 2 6 2 2 2 1 0 4 3 2 5 1 4 4 5\n",
      " 2 3 4 0]\n"
     ]
    },
    {
     "data": {
      "text/html": [
       "<div>\n",
       "<style scoped>\n",
       "    .dataframe tbody tr th:only-of-type {\n",
       "        vertical-align: middle;\n",
       "    }\n",
       "\n",
       "    .dataframe tbody tr th {\n",
       "        vertical-align: top;\n",
       "    }\n",
       "\n",
       "    .dataframe thead th {\n",
       "        text-align: right;\n",
       "    }\n",
       "</style>\n",
       "<table border=\"1\" class=\"dataframe\">\n",
       "  <thead>\n",
       "    <tr style=\"text-align: right;\">\n",
       "      <th></th>\n",
       "      <th>Unnamed: 0</th>\n",
       "      <th>feature1</th>\n",
       "      <th>feature2</th>\n",
       "      <th>cluster</th>\n",
       "    </tr>\n",
       "  </thead>\n",
       "  <tbody>\n",
       "    <tr>\n",
       "      <th>0</th>\n",
       "      <td>0</td>\n",
       "      <td>0.836857</td>\n",
       "      <td>2.136359</td>\n",
       "      <td>5</td>\n",
       "    </tr>\n",
       "    <tr>\n",
       "      <th>1</th>\n",
       "      <td>1</td>\n",
       "      <td>-1.413658</td>\n",
       "      <td>7.409623</td>\n",
       "      <td>1</td>\n",
       "    </tr>\n",
       "    <tr>\n",
       "      <th>2</th>\n",
       "      <td>2</td>\n",
       "      <td>1.155213</td>\n",
       "      <td>5.099619</td>\n",
       "      <td>3</td>\n",
       "    </tr>\n",
       "    <tr>\n",
       "      <th>3</th>\n",
       "      <td>3</td>\n",
       "      <td>-1.018616</td>\n",
       "      <td>7.814915</td>\n",
       "      <td>4</td>\n",
       "    </tr>\n",
       "    <tr>\n",
       "      <th>4</th>\n",
       "      <td>4</td>\n",
       "      <td>1.271351</td>\n",
       "      <td>1.892542</td>\n",
       "      <td>5</td>\n",
       "    </tr>\n",
       "  </tbody>\n",
       "</table>\n",
       "</div>"
      ],
      "text/plain": [
       "   Unnamed: 0  feature1  feature2  cluster\n",
       "0           0  0.836857  2.136359        5\n",
       "1           1 -1.413658  7.409623        1\n",
       "2           2  1.155213  5.099619        3\n",
       "3           3 -1.018616  7.814915        4\n",
       "4           4  1.271351  1.892542        5"
      ]
     },
     "execution_count": 384,
     "metadata": {},
     "output_type": "execute_result"
    }
   ],
   "source": [
    "# for k = 7\n",
    "\n",
    "km = KMeans(n_clusters=7)\n",
    "print(km)\n",
    "\n",
    "y_predicted = km.fit_predict(data[['feature1','feature2']])\n",
    "print(y_predicted)\n",
    "\n",
    "data['cluster'] = y_predicted\n",
    "data.head()"
   ]
  },
  {
   "cell_type": "code",
   "execution_count": 385,
   "metadata": {},
   "outputs": [
    {
     "data": {
      "text/plain": [
       "<function matplotlib.pyplot.legend(*args, **kwargs)>"
      ]
     },
     "execution_count": 385,
     "metadata": {},
     "output_type": "execute_result"
    },
    {
     "data": {
      "image/png": "[encoded data removed]",
      "text/plain": [
       "<Figure size 720x432 with 1 Axes>"
      ]
     },
     "metadata": {
      "needs_background": "light"
     },
     "output_type": "display_data"
    }
   ],
   "source": [
    "data1 = data[data.cluster == 0]\n",
    "data2 = data[data.cluster == 1]\n",
    "data3 = data[data.cluster == 2]\n",
    "data4 = data[data.cluster == 3]\n",
    "data5 = data[data.cluster == 4]\n",
    "data6 = data[data.cluster == 5]\n",
    "data7 = data[data.cluster == 6]\n",
    "\n",
    "plt.figure(figsize=(10, 6))\n",
    "plt.scatter(data1['feature1'], data1['feature2'], color = 'blue')\n",
    "plt.scatter(data2['feature1'], data2['feature2'], color = 'orange')\n",
    "plt.scatter(data3['feature1'], data3['feature2'], color = 'pink')\n",
    "plt.scatter(data4['feature1'], data4['feature2'], color = 'green')\n",
    "plt.scatter(data5['feature1'], data5['feature2'], color = 'brown')\n",
    "plt.scatter(data6['feature1'], data6['feature2'], color = 'red')\n",
    "plt.scatter(data7['feature1'], data7['feature2'], color = 'black')\n",
    "\n",
    "plt.title('for k = 7')\n",
    "plt.xlabel('$feature1$')\n",
    "plt.ylabel('$feature2$')\n",
    "plt.legend"
   ]
  },
  {
   "cell_type": "code",
   "execution_count": 386,
   "metadata": {},
   "outputs": [
    {
     "name": "stdout",
     "output_type": "stream",
     "text": [
      "KMeans(algorithm='auto', copy_x=True, init='k-means++', max_iter=300,\n",
      "       n_clusters=8, n_init=10, n_jobs=None, precompute_distances='auto',\n",
      "       random_state=None, tol=0.0001, verbose=0)\n",
      "[4 6 5 2 4 1 3 5 2 2 3 6 5 6 4 0 5 1 3 3 1 4 0 7 3 0 4 0 7 0 2 6 5 6 6 6 6\n",
      " 6 7 4 0 3 0 5 3 3 2 3 6 1 7 1 2 4 1 3 2 3 6 4 6 0 2 3 7 3 6 1 6 3 5 3 2 3\n",
      " 3 2 7 5 1 2 4 0 4 4 2 0 1 0 6 6 0 4 2 7 3 5 4 1 0 7 2 4 2 1 5 1 4 5 6 0 3\n",
      " 7 4 6 4 5 6 4 1 0 3 4 3 4 4 1 4 3 4 3 2 3 3 4 6 3 7 6 0 2 6 3 5 7 5 3 6 0\n",
      " 6 6 6 5 6 0 4 3 2 3 4 5 6 0 0 1 0 7 3 0 4 5 5 2 4 5 7 2 1 1 0 3 1 5 7 3 0\n",
      " 5 5 0 1 6 0 3 5 0 3 3 7 5 3 6 5 3 4 3 5 6 3 2 5 6 5 3 0 5 6 3 3 4 1 0 6 1\n",
      " 4 7 4 7 0 2 2 5 5 2 0 4 3 0 4 3 2 7 1 0 1 6 6 6 6 7 3 6 5 3 4 0 7 7 0 4 1\n",
      " 6 0 0 7 4 2 3 5 2 0 1 4 7 3 5 1 4 4 5 2 6 1 1 5 1 1 1 6 3 2 5 4 4 6 2 2 1\n",
      " 1 0 2 3]\n"
     ]
    },
    {
     "data": {
      "text/html": [
       "<div>\n",
       "<style scoped>\n",
       "    .dataframe tbody tr th:only-of-type {\n",
       "        vertical-align: middle;\n",
       "    }\n",
       "\n",
       "    .dataframe tbody tr th {\n",
       "        vertical-align: top;\n",
       "    }\n",
       "\n",
       "    .dataframe thead th {\n",
       "        text-align: right;\n",
       "    }\n",
       "</style>\n",
       "<table border=\"1\" class=\"dataframe\">\n",
       "  <thead>\n",
       "    <tr style=\"text-align: right;\">\n",
       "      <th></th>\n",
       "      <th>Unnamed: 0</th>\n",
       "      <th>feature1</th>\n",
       "      <th>feature2</th>\n",
       "      <th>cluster</th>\n",
       "    </tr>\n",
       "  </thead>\n",
       "  <tbody>\n",
       "    <tr>\n",
       "      <th>0</th>\n",
       "      <td>0</td>\n",
       "      <td>0.836857</td>\n",
       "      <td>2.136359</td>\n",
       "      <td>4</td>\n",
       "    </tr>\n",
       "    <tr>\n",
       "      <th>1</th>\n",
       "      <td>1</td>\n",
       "      <td>-1.413658</td>\n",
       "      <td>7.409623</td>\n",
       "      <td>6</td>\n",
       "    </tr>\n",
       "    <tr>\n",
       "      <th>2</th>\n",
       "      <td>2</td>\n",
       "      <td>1.155213</td>\n",
       "      <td>5.099619</td>\n",
       "      <td>5</td>\n",
       "    </tr>\n",
       "    <tr>\n",
       "      <th>3</th>\n",
       "      <td>3</td>\n",
       "      <td>-1.018616</td>\n",
       "      <td>7.814915</td>\n",
       "      <td>2</td>\n",
       "    </tr>\n",
       "    <tr>\n",
       "      <th>4</th>\n",
       "      <td>4</td>\n",
       "      <td>1.271351</td>\n",
       "      <td>1.892542</td>\n",
       "      <td>4</td>\n",
       "    </tr>\n",
       "  </tbody>\n",
       "</table>\n",
       "</div>"
      ],
      "text/plain": [
       "   Unnamed: 0  feature1  feature2  cluster\n",
       "0           0  0.836857  2.136359        4\n",
       "1           1 -1.413658  7.409623        6\n",
       "2           2  1.155213  5.099619        5\n",
       "3           3 -1.018616  7.814915        2\n",
       "4           4  1.271351  1.892542        4"
      ]
     },
     "execution_count": 386,
     "metadata": {},
     "output_type": "execute_result"
    }
   ],
   "source": [
    "# for k = 8\n",
    "\n",
    "km = KMeans(n_clusters=8)\n",
    "print(km)\n",
    "\n",
    "y_predicted = km.fit_predict(data[['feature1','feature2']])\n",
    "print(y_predicted)\n",
    "\n",
    "data['cluster'] = y_predicted\n",
    "data.head()"
   ]
  },
  {
   "cell_type": "code",
   "execution_count": 387,
   "metadata": {},
   "outputs": [
    {
     "data": {
      "text/plain": [
       "<function matplotlib.pyplot.legend(*args, **kwargs)>"
      ]
     },
     "execution_count": 387,
     "metadata": {},
     "output_type": "execute_result"
    },
    {
     "data": {
      "image/png": "[encoded data removed]",
      "text/plain": [
       "<Figure size 720x432 with 1 Axes>"
      ]
     },
     "metadata": {
      "needs_background": "light"
     },
     "output_type": "display_data"
    }
   ],
   "source": [
    "data1 = data[data.cluster == 0]\n",
    "data2 = data[data.cluster == 1]\n",
    "data3 = data[data.cluster == 2]\n",
    "data4 = data[data.cluster == 3]\n",
    "data5 = data[data.cluster == 4]\n",
    "data6 = data[data.cluster == 5]\n",
    "data7 = data[data.cluster == 6]\n",
    "data8 = data[data.cluster == 7]\n",
    "\n",
    "plt.figure(figsize=(10, 6))\n",
    "plt.scatter(data1['feature1'], data1['feature2'], color = 'blue')\n",
    "plt.scatter(data2['feature1'], data2['feature2'], color = 'orange')\n",
    "plt.scatter(data3['feature1'], data3['feature2'], color = 'pink')\n",
    "plt.scatter(data4['feature1'], data4['feature2'], color = 'green')\n",
    "plt.scatter(data5['feature1'], data5['feature2'], color = 'brown')\n",
    "plt.scatter(data6['feature1'], data6['feature2'], color = 'red')\n",
    "plt.scatter(data7['feature1'], data7['feature2'], color = 'black')\n",
    "plt.scatter(data8['feature1'], data8['feature2'], color = 'white')\n",
    "\n",
    "plt.title('for k = 8')\n",
    "plt.xlabel('$feature1$')\n",
    "plt.ylabel('$feature2$')\n",
    "plt.legend"
   ]
  },
  {
   "cell_type": "code",
   "execution_count": 388,
   "metadata": {},
   "outputs": [
    {
     "name": "stdout",
     "output_type": "stream",
     "text": [
      "KMeans(algorithm='auto', copy_x=True, init='k-means++', max_iter=300,\n",
      "       n_clusters=9, n_init=10, n_jobs=None, precompute_distances='auto',\n",
      "       random_state=None, tol=0.0001, verbose=0)\n",
      "[1 8 5 0 1 6 3 5 0 0 3 8 5 8 1 4 5 6 2 3 6 1 4 7 3 4 1 4 7 4 0 8 5 8 8 8 8\n",
      " 8 7 1 4 3 4 5 3 2 0 3 8 1 7 6 0 1 1 2 0 3 8 1 8 4 0 2 7 2 8 6 8 2 5 2 0 2\n",
      " 3 0 7 5 6 0 1 4 1 1 0 4 6 4 8 8 4 1 8 7 2 5 1 6 4 7 0 1 0 6 5 6 6 5 8 4 3\n",
      " 2 1 8 1 5 8 1 1 4 2 1 2 1 1 1 1 3 1 3 0 3 3 6 8 3 7 8 4 0 8 2 5 2 5 3 8 4\n",
      " 8 8 8 4 8 4 1 2 0 3 1 5 8 4 4 1 4 7 3 4 1 5 5 0 1 5 2 0 6 6 4 2 6 5 7 2 4\n",
      " 5 5 4 6 8 4 2 5 4 3 3 7 5 3 8 5 2 1 3 5 8 2 0 5 8 5 3 4 5 8 2 2 1 6 4 8 6\n",
      " 1 7 1 7 4 0 0 5 5 0 4 1 2 4 1 2 0 7 6 4 6 8 8 8 8 2 2 8 5 2 1 4 7 7 2 1 6\n",
      " 8 4 4 7 1 0 2 5 0 4 1 1 7 3 5 6 1 1 5 0 8 6 6 5 6 6 6 8 2 0 4 6 1 8 0 0 1\n",
      " 6 4 0 3]\n"
     ]
    },
    {
     "data": {
      "text/html": [
       "<div>\n",
       "<style scoped>\n",
       "    .dataframe tbody tr th:only-of-type {\n",
       "        vertical-align: middle;\n",
       "    }\n",
       "\n",
       "    .dataframe tbody tr th {\n",
       "        vertical-align: top;\n",
       "    }\n",
       "\n",
       "    .dataframe thead th {\n",
       "        text-align: right;\n",
       "    }\n",
       "</style>\n",
       "<table border=\"1\" class=\"dataframe\">\n",
       "  <thead>\n",
       "    <tr style=\"text-align: right;\">\n",
       "      <th></th>\n",
       "      <th>Unnamed: 0</th>\n",
       "      <th>feature1</th>\n",
       "      <th>feature2</th>\n",
       "      <th>cluster</th>\n",
       "    </tr>\n",
       "  </thead>\n",
       "  <tbody>\n",
       "    <tr>\n",
       "      <th>0</th>\n",
       "      <td>0</td>\n",
       "      <td>0.836857</td>\n",
       "      <td>2.136359</td>\n",
       "      <td>1</td>\n",
       "    </tr>\n",
       "    <tr>\n",
       "      <th>1</th>\n",
       "      <td>1</td>\n",
       "      <td>-1.413658</td>\n",
       "      <td>7.409623</td>\n",
       "      <td>8</td>\n",
       "    </tr>\n",
       "    <tr>\n",
       "      <th>2</th>\n",
       "      <td>2</td>\n",
       "      <td>1.155213</td>\n",
       "      <td>5.099619</td>\n",
       "      <td>5</td>\n",
       "    </tr>\n",
       "    <tr>\n",
       "      <th>3</th>\n",
       "      <td>3</td>\n",
       "      <td>-1.018616</td>\n",
       "      <td>7.814915</td>\n",
       "      <td>0</td>\n",
       "    </tr>\n",
       "    <tr>\n",
       "      <th>4</th>\n",
       "      <td>4</td>\n",
       "      <td>1.271351</td>\n",
       "      <td>1.892542</td>\n",
       "      <td>1</td>\n",
       "    </tr>\n",
       "  </tbody>\n",
       "</table>\n",
       "</div>"
      ],
      "text/plain": [
       "   Unnamed: 0  feature1  feature2  cluster\n",
       "0           0  0.836857  2.136359        1\n",
       "1           1 -1.413658  7.409623        8\n",
       "2           2  1.155213  5.099619        5\n",
       "3           3 -1.018616  7.814915        0\n",
       "4           4  1.271351  1.892542        1"
      ]
     },
     "execution_count": 388,
     "metadata": {},
     "output_type": "execute_result"
    }
   ],
   "source": [
    "# for k = 9\n",
    "\n",
    "km = KMeans(n_clusters=9)\n",
    "print(km)\n",
    "\n",
    "y_predicted = km.fit_predict(data[['feature1','feature2']])\n",
    "print(y_predicted)\n",
    "\n",
    "data['cluster'] = y_predicted\n",
    "data.head()"
   ]
  },
  {
   "cell_type": "code",
   "execution_count": 389,
   "metadata": {},
   "outputs": [
    {
     "data": {
      "text/plain": [
       "<function matplotlib.pyplot.legend(*args, **kwargs)>"
      ]
     },
     "execution_count": 389,
     "metadata": {},
     "output_type": "execute_result"
    },
    {
     "data": {
      "image/png": "[encoded data removed]",
      "text/plain": [
       "<Figure size 720x432 with 1 Axes>"
      ]
     },
     "metadata": {
      "needs_background": "light"
     },
     "output_type": "display_data"
    }
   ],
   "source": [
    "data1 = data[data.cluster == 0]\n",
    "data2 = data[data.cluster == 1]\n",
    "data3 = data[data.cluster == 2]\n",
    "data4 = data[data.cluster == 3]\n",
    "data5 = data[data.cluster == 4]\n",
    "data6 = data[data.cluster == 5]\n",
    "data7 = data[data.cluster == 6]\n",
    "data8 = data[data.cluster == 7]\n",
    "data9 = data[data.cluster == 8]\n",
    "\n",
    "plt.figure(figsize=(10, 6))\n",
    "plt.scatter(data1['feature1'], data1['feature2'], color = 'blue')\n",
    "plt.scatter(data2['feature1'], data2['feature2'], color = 'orange')\n",
    "plt.scatter(data3['feature1'], data3['feature2'], color = 'pink')\n",
    "plt.scatter(data4['feature1'], data4['feature2'], color = 'green')\n",
    "plt.scatter(data5['feature1'], data5['feature2'], color = 'brown')\n",
    "plt.scatter(data6['feature1'], data6['feature2'], color = 'red')\n",
    "plt.scatter(data7['feature1'], data7['feature2'], color = 'black')\n",
    "plt.scatter(data8['feature1'], data8['feature2'], color = 'white')\n",
    "plt.scatter(data9['feature1'], data9['feature2'], color = 'yellow')\n",
    "\n",
    "plt.title('for k = 9')\n",
    "plt.xlabel('$feature1$')\n",
    "plt.ylabel('$feature2$')\n",
    "plt.legend"
   ]
  },
  {
   "cell_type": "code",
   "execution_count": 390,
   "metadata": {},
   "outputs": [
    {
     "name": "stdout",
     "output_type": "stream",
     "text": [
      "KMeans(algorithm='auto', copy_x=True, init='k-means++', max_iter=300,\n",
      "       n_clusters=10, n_init=10, n_jobs=None, precompute_distances='auto',\n",
      "       random_state=None, tol=0.0001, verbose=0)\n",
      "[5 7 4 0 5 1 6 4 0 0 3 7 4 7 9 2 4 1 8 6 1 5 2 3 3 2 5 2 3 2 0 7 4 7 7 7 7\n",
      " 7 3 5 2 6 2 4 6 8 0 8 7 5 3 1 0 5 5 8 0 6 7 5 7 2 0 8 3 8 7 1 7 8 4 8 0 8\n",
      " 6 0 3 4 1 0 9 2 5 5 0 2 1 2 7 7 2 5 7 3 8 4 5 1 2 3 0 9 0 1 4 1 9 4 7 2 6\n",
      " 8 5 7 5 4 7 5 5 2 8 5 8 5 5 5 5 6 5 6 0 6 6 9 7 6 3 7 2 0 7 8 4 8 4 6 7 2\n",
      " 7 7 7 2 7 2 9 8 0 6 5 4 7 2 2 5 2 3 6 2 5 4 4 0 5 4 8 0 1 1 2 8 1 4 3 8 2\n",
      " 4 4 2 1 7 2 8 4 2 6 6 3 4 6 7 4 8 9 6 4 7 8 0 4 7 4 6 2 4 7 8 8 9 9 2 7 1\n",
      " 9 3 9 3 2 0 0 4 4 0 2 5 8 2 5 8 0 3 1 2 1 7 7 7 7 8 8 7 4 8 5 2 3 3 8 9 1\n",
      " 7 2 2 3 5 0 8 4 0 2 1 5 3 6 4 1 9 5 4 0 7 1 1 4 1 1 1 7 8 0 2 9 5 7 0 0 5\n",
      " 1 2 0 3]\n"
     ]
    },
    {
     "data": {
      "text/html": [
       "<div>\n",
       "<style scoped>\n",
       "    .dataframe tbody tr th:only-of-type {\n",
       "        vertical-align: middle;\n",
       "    }\n",
       "\n",
       "    .dataframe tbody tr th {\n",
       "        vertical-align: top;\n",
       "    }\n",
       "\n",
       "    .dataframe thead th {\n",
       "        text-align: right;\n",
       "    }\n",
       "</style>\n",
       "<table border=\"1\" class=\"dataframe\">\n",
       "  <thead>\n",
       "    <tr style=\"text-align: right;\">\n",
       "      <th></th>\n",
       "      <th>Unnamed: 0</th>\n",
       "      <th>feature1</th>\n",
       "      <th>feature2</th>\n",
       "      <th>cluster</th>\n",
       "    </tr>\n",
       "  </thead>\n",
       "  <tbody>\n",
       "    <tr>\n",
       "      <th>0</th>\n",
       "      <td>0</td>\n",
       "      <td>0.836857</td>\n",
       "      <td>2.136359</td>\n",
       "      <td>5</td>\n",
       "    </tr>\n",
       "    <tr>\n",
       "      <th>1</th>\n",
       "      <td>1</td>\n",
       "      <td>-1.413658</td>\n",
       "      <td>7.409623</td>\n",
       "      <td>7</td>\n",
       "    </tr>\n",
       "    <tr>\n",
       "      <th>2</th>\n",
       "      <td>2</td>\n",
       "      <td>1.155213</td>\n",
       "      <td>5.099619</td>\n",
       "      <td>4</td>\n",
       "    </tr>\n",
       "    <tr>\n",
       "      <th>3</th>\n",
       "      <td>3</td>\n",
       "      <td>-1.018616</td>\n",
       "      <td>7.814915</td>\n",
       "      <td>0</td>\n",
       "    </tr>\n",
       "    <tr>\n",
       "      <th>4</th>\n",
       "      <td>4</td>\n",
       "      <td>1.271351</td>\n",
       "      <td>1.892542</td>\n",
       "      <td>5</td>\n",
       "    </tr>\n",
       "  </tbody>\n",
       "</table>\n",
       "</div>"
      ],
      "text/plain": [
       "   Unnamed: 0  feature1  feature2  cluster\n",
       "0           0  0.836857  2.136359        5\n",
       "1           1 -1.413658  7.409623        7\n",
       "2           2  1.155213  5.099619        4\n",
       "3           3 -1.018616  7.814915        0\n",
       "4           4  1.271351  1.892542        5"
      ]
     },
     "execution_count": 390,
     "metadata": {},
     "output_type": "execute_result"
    }
   ],
   "source": [
    "# for k = 10\n",
    "\n",
    "km = KMeans(n_clusters=10)\n",
    "print(km)\n",
    "\n",
    "y_predicted = km.fit_predict(data[['feature1','feature2']])\n",
    "print(y_predicted)\n",
    "\n",
    "data['cluster'] = y_predicted\n",
    "data.head()"
   ]
  },
  {
   "cell_type": "code",
   "execution_count": 391,
   "metadata": {},
   "outputs": [
    {
     "data": {
      "text/plain": [
       "<function matplotlib.pyplot.legend(*args, **kwargs)>"
      ]
     },
     "execution_count": 391,
     "metadata": {},
     "output_type": "execute_result"
    },
    {
     "data": {
      "image/png": "[encoded data removed]",
      "text/plain": [
       "<Figure size 720x432 with 1 Axes>"
      ]
     },
     "metadata": {
      "needs_background": "light"
     },
     "output_type": "display_data"
    }
   ],
   "source": [
    "data1 = data[data.cluster == 0]\n",
    "data2 = data[data.cluster == 1]\n",
    "data3 = data[data.cluster == 2]\n",
    "data4 = data[data.cluster == 3]\n",
    "data5 = data[data.cluster == 4]\n",
    "data6 = data[data.cluster == 5]\n",
    "data7 = data[data.cluster == 6]\n",
    "data8 = data[data.cluster == 7]\n",
    "data9 = data[data.cluster == 8]\n",
    "data10 = data[data.cluster == 9]\n",
    "\n",
    "plt.figure(figsize=(10, 6))\n",
    "plt.scatter(data1['feature1'], data1['feature2'], color = 'blue')\n",
    "plt.scatter(data2['feature1'], data2['feature2'], color = 'orange')\n",
    "plt.scatter(data3['feature1'], data3['feature2'], color = 'pink')\n",
    "plt.scatter(data4['feature1'], data4['feature2'], color = 'green')\n",
    "plt.scatter(data5['feature1'], data5['feature2'], color = 'brown')\n",
    "plt.scatter(data6['feature1'], data6['feature2'], color = 'red')\n",
    "plt.scatter(data7['feature1'], data7['feature2'], color = 'black')\n",
    "plt.scatter(data8['feature1'], data8['feature2'], color = 'white')\n",
    "plt.scatter(data9['feature1'], data9['feature2'], color = 'yellow')\n",
    "plt.scatter(data10['feature1'], data10['feature2'], color = 'violet')\n",
    "\n",
    "plt.title('for k = 10')\n",
    "plt.xlabel('$feature1$')\n",
    "plt.ylabel('$feature2$')\n",
    "plt.legend"
   ]
  },
  {
   "cell_type": "markdown",
   "metadata": {},
   "source": [
    "Ans:\n",
    "\n",
    "\n",
    "From the plots, it is very likely that for k = 4, it resembles closely with the given dataset.\n",
    "\n",
    "Reason: From the observers point of view, the dataset is scattered into 4 clusters. And for k = 4 there are four different colors. We can say 4 clusters exist. However, there is one data point in blue color that is very close with the pink cluster. So it is an exception. Compared to all other plots, plot with k = 4 resembles best wrt the given dataset."
   ]
  },
  {
   "cell_type": "code",
   "execution_count": null,
   "metadata": {},
   "outputs": [],
   "source": []
  }
 ],
 "metadata": {
  "kernelspec": {
   "display_name": "Python 3",
   "language": "python",
   "name": "python3"
  },
  "language_info": {
   "codemirror_mode": {
    "name": "ipython",
    "version": 3
   },
   "file_extension": ".py",
   "mimetype": "text/x-python",
   "name": "python",
   "nbconvert_exporter": "python",
   "pygments_lexer": "ipython3",
   "version": "3.7.6"
  }
 },
 "nbformat": 4,
 "nbformat_minor": 4
}
