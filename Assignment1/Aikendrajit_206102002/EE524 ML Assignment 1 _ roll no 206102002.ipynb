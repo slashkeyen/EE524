{
 "cells": [
  {
   "cell_type": "markdown",
   "metadata": {},
   "source": [
    "# EE 524 Machine Learning Lab: Assignment 1"
   ]
  },
  {
   "cell_type": "markdown",
   "metadata": {},
   "source": [
    "- by Aikendrajit Roll no.: 206102002"
   ]
  },
  {
   "cell_type": "markdown",
   "metadata": {},
   "source": [
    "  "
   ]
  },
  {
   "cell_type": "markdown",
   "metadata": {},
   "source": [
    "Q1. Print ’Hello World!’"
   ]
  },
  {
   "cell_type": "code",
   "execution_count": 2,
   "metadata": {},
   "outputs": [
    {
     "name": "stdout",
     "output_type": "stream",
     "text": [
      "Hello World!\n"
     ]
    }
   ],
   "source": [
    "print('Hello World!')"
   ]
  },
  {
   "cell_type": "markdown",
   "metadata": {},
   "source": [
    "  "
   ]
  },
  {
   "cell_type": "markdown",
   "metadata": {},
   "source": [
    "Q2. User input two numbers a and b. Perform the following algebraic operations c = a + b, d = a − b, e = a ∗ b, f = a/b and \n",
    "g = a%b and print their results."
   ]
  },
  {
   "cell_type": "code",
   "execution_count": 12,
   "metadata": {},
   "outputs": [
    {
     "name": "stdout",
     "output_type": "stream",
     "text": [
      "Enter first number:7\n",
      "Enter second number:3\n",
      "sum: 10\n",
      "difference: 4\n",
      "mul: 21\n",
      "difference: 2.3333333333333335\n",
      "remainder: 1\n"
     ]
    }
   ],
   "source": [
    "a=int(input(\"Enter first number:\"))\n",
    "b=int(input(\"Enter second number:\"))\n",
    "c=a+b\n",
    "print(\"sum:\",c)\n",
    "d=a-b\n",
    "print(\"difference:\",d)\n",
    "e=a*b\n",
    "print(\"mul:\",e)\n",
    "f=a/b\n",
    "print(\"difference:\",f)\n",
    "g=a%b\n",
    "print(\"remainder:\",g)"
   ]
  },
  {
   "cell_type": "markdown",
   "metadata": {},
   "source": [
    "  "
   ]
  },
  {
   "cell_type": "markdown",
   "metadata": {},
   "source": [
    "Q3. Find the factorial of a number ’num’ and print the result."
   ]
  },
  {
   "cell_type": "code",
   "execution_count": 33,
   "metadata": {},
   "outputs": [
    {
     "name": "stdout",
     "output_type": "stream",
     "text": [
      "Enter the number:0\n",
      "Factorial of a 0 is 1\n"
     ]
    }
   ],
   "source": [
    "def factorial(num):\n",
    "    if num == 1:\n",
    "        return num\n",
    "    else:\n",
    "        return num * factorial(num-1)\n",
    "    \n",
    "num = int(input(\"Enter the number:\"))\n",
    "\n",
    "if num < 0:\n",
    "    print(\"error, cannot find factorial of a negative number\")\n",
    "elif num == 0:\n",
    "    print(\"Factorial of a 0 is 1\")\n",
    "else:\n",
    "    print(\"Factorial of\", num,\"is:\", factorial(num))"
   ]
  },
  {
   "cell_type": "code",
   "execution_count": 34,
   "metadata": {},
   "outputs": [
    {
     "name": "stdout",
     "output_type": "stream",
     "text": [
      "Enter the number:-5\n",
      "error, cannot find factorial of a negative number\n"
     ]
    }
   ],
   "source": [
    "def factorial(num):\n",
    "    if num == 1:\n",
    "        return num\n",
    "    else:\n",
    "        return num * factorial(num-1)\n",
    "    \n",
    "num = int(input(\"Enter the number:\"))\n",
    "\n",
    "if num < 0:\n",
    "    print(\"error, cannot find factorial of a negative number\")\n",
    "elif num == 0:\n",
    "    print(\"Factorial of a 0 is 1\")\n",
    "else:\n",
    "    print(\"Factorial of\", num,\"is:\", factorial(num))"
   ]
  },
  {
   "cell_type": "code",
   "execution_count": 35,
   "metadata": {},
   "outputs": [
    {
     "name": "stdout",
     "output_type": "stream",
     "text": [
      "Enter the number:5\n",
      "Factorial of 5 is: 120\n"
     ]
    }
   ],
   "source": [
    "def factorial(num):\n",
    "    if num == 1:\n",
    "        return num\n",
    "    else:\n",
    "        return num * factorial(num-1)\n",
    "    \n",
    "num = int(input(\"Enter the number:\"))\n",
    "\n",
    "if num < 0:\n",
    "    print(\"error, cannot find factorial of a negative number\")\n",
    "elif num == 0:\n",
    "    print(\"Factorial of a 0 is 1\")\n",
    "else:\n",
    "    print(\"Factorial of\", num,\"is:\", factorial(num))"
   ]
  },
  {
   "cell_type": "markdown",
   "metadata": {},
   "source": [
    "  "
   ]
  },
  {
   "cell_type": "markdown",
   "metadata": {},
   "source": [
    "Q4. Take two user inputs a and b. Write a program to print all the prime numbers in the interval [a,b]."
   ]
  },
  {
   "cell_type": "code",
   "execution_count": 14,
   "metadata": {},
   "outputs": [
    {
     "name": "stdout",
     "output_type": "stream",
     "text": [
      "Enter first number3\n",
      "Enter second number30\n",
      "3\n",
      "5\n",
      "7\n",
      "11\n",
      "13\n",
      "17\n",
      "19\n",
      "23\n",
      "29\n"
     ]
    }
   ],
   "source": [
    "a = int(input(\"Enter first number\"))\n",
    "b = int(input(\"Enter second number\"))\n",
    "for num in range(a,b+1):\n",
    "    if num>1:\n",
    "        for i in range(2,num):\n",
    "            if (num%i) == 0:\n",
    "                break\n",
    "        else:\n",
    "            print(num)"
   ]
  },
  {
   "cell_type": "markdown",
   "metadata": {},
   "source": [
    "  "
   ]
  },
  {
   "cell_type": "markdown",
   "metadata": {},
   "source": [
    "Q5. Take two user inputs a and b and find their Lowest Common Multiple(LCM)."
   ]
  },
  {
   "cell_type": "code",
   "execution_count": 5,
   "metadata": {},
   "outputs": [
    {
     "name": "stdout",
     "output_type": "stream",
     "text": [
      "Enter first number12\n",
      "Enter second number18\n",
      "The required LCM is: 36\n"
     ]
    }
   ],
   "source": [
    "a = int(input(\"Enter first number\"))\n",
    "b = int(input(\"Enter second number\"))\n",
    "\n",
    "def lcm(p,q):\n",
    "    #selecting the highest number\n",
    "    if p>q:\n",
    "        highest = p\n",
    "    else:\n",
    "        highest = q\n",
    "        \n",
    "    while(True):\n",
    "        if((highest % p == 0 ) and (highest % q == 0)):\n",
    "            lcm = highest\n",
    "            break\n",
    "        highest = highest + 1 \n",
    "    return lcm\n",
    "\n",
    "print(\"The required LCM is:\", lcm(a,b))"
   ]
  },
  {
   "cell_type": "markdown",
   "metadata": {},
   "source": [
    "  "
   ]
  },
  {
   "cell_type": "markdown",
   "metadata": {},
   "source": [
    "Q6. Create a list of length n = 15. Sort the array in descending order and print the sorted List as well as the sorted indices. Use the bubble sort algorithm."
   ]
  },
  {
   "cell_type": "code",
   "execution_count": 19,
   "metadata": {},
   "outputs": [
    {
     "name": "stdout",
     "output_type": "stream",
     "text": [
      "Enter the list of numbers separated by space\n",
      "30 28 34 17 8 11 31 26 9 2 12 1 3 14 19\n",
      "sorted indices: [11  9 12  4  8  5 10 13  3 14  7  1  0  6  2]\n",
      "Sorted List after Bubble Sorting in Ascending Order\n",
      " [1, 2, 3, 8, 9, 11, 12, 14, 17, 19, 26, 28, 30, 31, 34]\n",
      "Sorted List after Bubble Sorting in Descending Order\n",
      " [34, 31, 30, 28, 26, 19, 17, 14, 12, 11, 9, 8, 3, 2, 1]\n",
      "sorted indices: [14 13 12 11 10  9  8  7  6  5  4  3  2  1  0]\n"
     ]
    }
   ],
   "source": [
    "import numpy as np\n",
    "\n",
    "def bubble_sort(n_list):\n",
    "    for i in range(len(n_list) - 1, 0, -1):\n",
    "        no_swap = True\n",
    "        for j in range(0, i):\n",
    "            if nlist[j + 1] < nlist[j]:\n",
    "                nlist[j], nlist[j + 1] = nlist[j + 1], nlist[j]\n",
    "                no_swap = False\n",
    "        if no_swap:\n",
    "            return\n",
    " \n",
    " \n",
    "nlist = input('Enter the list of numbers separated by space\\n').split()\n",
    "nlist = [int(x) for x in nlist]\n",
    "sorted_indices = np.argsort(nlist)\n",
    "print('sorted indices:', sorted_indices)\n",
    "#sorted_indices.reverse()\n",
    "#print('sorted indices:', sorted_indices)\n",
    "bubble_sort(nlist)\n",
    "print('Sorted List after Bubble Sorting in Ascending Order\\n', nlist)\n",
    "nlist.reverse()\n",
    "print('Sorted List after Bubble Sorting in Descending Order\\n', nlist)\n",
    "num = nlist\n",
    "sorted_indices = np.argsort(num)\n",
    "print('sorted indices:', sorted_indices)"
   ]
  },
  {
   "cell_type": "markdown",
   "metadata": {},
   "source": [
    "  "
   ]
  },
  {
   "cell_type": "markdown",
   "metadata": {},
   "source": [
    "Q7. Repeat the previous program for sorting in ascending order. Use numpy array instead of list."
   ]
  },
  {
   "cell_type": "code",
   "execution_count": 20,
   "metadata": {},
   "outputs": [
    {
     "name": "stdout",
     "output_type": "stream",
     "text": [
      "[ 1  2  3  8  9 11 12 14 17 19 26 28 30 31 34]\n"
     ]
    }
   ],
   "source": [
    "array = np.array([30, 28, 34, 17, 8, 11, 31, 26, 9, 2, 12, 1, 3, 14, 19])\n",
    "\n",
    "# Sort in ascending order\n",
    "sorted_array = np.sort(array)\n",
    "print(sorted_array)"
   ]
  },
  {
   "cell_type": "markdown",
   "metadata": {},
   "source": [
    "  "
   ]
  },
  {
   "cell_type": "markdown",
   "metadata": {},
   "source": [
    "Q8. Print a matrix MeRmxn having random values in the given range [-2, 5]. m and n are to be given as userinput."
   ]
  },
  {
   "cell_type": "code",
   "execution_count": 17,
   "metadata": {},
   "outputs": [
    {
     "name": "stdout",
     "output_type": "stream",
     "text": [
      "Number of rows:3\n",
      "Number of columns:3\n",
      "[[ 0  2  3]\n",
      " [-2  1  2]\n",
      " [ 0 -2  2]]\n"
     ]
    }
   ],
   "source": [
    "\n",
    "m = int(input(\"Number of rows:\"))\n",
    "n = int(input(\"Number of columns:\"))\n",
    "\n",
    "import numpy as np\n",
    "A = np.random.randint(-2,5, size = (m, n))\n",
    "print(A)"
   ]
  },
  {
   "cell_type": "markdown",
   "metadata": {},
   "source": [
    "  "
   ]
  },
  {
   "cell_type": "markdown",
   "metadata": {},
   "source": [
    "Q9. Write a program to multiply two random matrices M1 e Rmxn, M2 e Rnxp (Don't use built-in functions). Compare the result obtained with the built-in function."
   ]
  },
  {
   "cell_type": "code",
   "execution_count": 37,
   "metadata": {},
   "outputs": [
    {
     "name": "stdout",
     "output_type": "stream",
     "text": [
      "Number of rows for first matrix:3\n",
      "Number of columns for first matrix:2\n",
      "First matrix is:\n",
      " [[-2  0]\n",
      " [-1 -1]\n",
      " [ 2  0]]\n",
      "Number of rows for 2nd matrix: 2\n",
      "Number of columns for 2nd matrix:3\n",
      "Second matrix is:\n",
      " [[-1  1 -1]\n",
      " [ 1  4  0]]\n",
      "Result:\n",
      "[2, -2, 2]\n",
      "[0, -5, 1]\n",
      "[-2, 2, -2]\n"
     ]
    }
   ],
   "source": [
    "m = int(input(\"Number of rows for first matrix:\"))\n",
    "n = int(input(\"Number of columns for first matrix:\"))\n",
    "\n",
    "import numpy as np\n",
    "A = np.random.randint(-2,5, size = (m, n))\n",
    "print(\"First matrix is:\\n\", A)\n",
    "\n",
    "print(\"Number of rows for 2nd matrix:\", n)\n",
    "p = int(input(\"Number of columns for 2nd matrix:\"))\n",
    "B = np.random.randint(-2,5, size = (n, p))\n",
    "print(\"Second matrix is:\\n\", B)\n",
    "\n",
    "result = [[0,0,0],\n",
    "         [0,0,0],\n",
    "         [0,0,0]]\n",
    "\n",
    "# iterate through rows of X\n",
    "for i in range(len(A)):\n",
    "   # iterate through columns of Y\n",
    "   for j in range(len(B[0])):\n",
    "       # iterate through rows of Y\n",
    "       for k in range(len(B)):\n",
    "            result[i][j] += A[i][k] * B[k][j]\n",
    "\n",
    "print(\"Result:\")\n",
    "for r in result:\n",
    "    print(r)"
   ]
  },
  {
   "cell_type": "markdown",
   "metadata": {},
   "source": [
    "    "
   ]
  },
  {
   "cell_type": "markdown",
   "metadata": {},
   "source": [
    "Q10. Write File operations :\n",
    "* Generate a set of n= 100 random points X = xi, i = 1, . . . n, xi e R10.\n",
    "* Write the points to a CSV file (https://en.wikipedia.org/wiki/Comma-separated_values)"
   ]
  },
  {
   "cell_type": "code",
   "execution_count": 68,
   "metadata": {},
   "outputs": [
    {
     "name": "stdout",
     "output_type": "stream",
     "text": [
      "     c1  c2  c3  c4  c5  c6  c7  c8  c9  c10\n",
      "x1   32  24  83  23  40  36  51  51  54   36\n",
      "x2   32  88  16  84  13  53  47  30  38   31\n",
      "x3   61  81  19  76  31  38  41  84  21   16\n",
      "x4   47  91  24  92  47  97  70  14   8   96\n",
      "x5   69  51  67  36  34  26  82  44   8   87\n",
      "x6   66  65  61  19  91  69  68  35  22   19\n",
      "x7   20  12   0  65  55  91  12  21  74   98\n",
      "x8   81  54  96  72  85  50  85  14  16   65\n",
      "x9   38  83  98  75  85  38  73  55  36   62\n",
      "x10  31  14  78  69  14  62   4  61  32   38\n"
     ]
    }
   ],
   "source": [
    "#for generating n = 100 random points \n",
    "import pandas as pd\n",
    "import numpy as np\n",
    "\n",
    "column_names = ['c1', 'c2', 'c3', 'c4', 'c5', 'c6', 'c7', 'c8', 'c9', 'c10']\n",
    "row_names = ['x1', 'x2', 'x3', 'x4', 'x5', 'x6', 'x7', 'x8', 'x9', 'x10']\n",
    "                   \n",
    "A = np.random.randint(100, size = (10, 10))\n",
    "\n",
    "matrix = np.reshape(A, (10, 10))\n",
    "df = pd.DataFrame(matrix, columns = column_names, index = row_names)\n",
    "print(df)\n",
    "   \n",
    "\n",
    "#for writing these points into a CSV file\n",
    "from numpy import asarray\n",
    "from numpy import savetxt\n",
    "\n",
    "data = asarray(df)\n",
    "savetxt('data.csv', data, delimiter = ',')\n"
   ]
  },
  {
   "cell_type": "markdown",
   "metadata": {},
   "source": [
    "  "
   ]
  },
  {
   "cell_type": "markdown",
   "metadata": {},
   "source": [
    "Q11. Read File operations:\n",
    "* Read the CSV file generated in the previous program to a matrix. Each column of matrix should represent a vector.\n",
    "* Compute the following : C = 1/n E i=1, n (Xi - u)(Xi - u)T where u = 1/n E i=1, n (Xi) where i = 1,2,3 ... n. \n",
    "    Xi = [xi1,xi2, ... xi10] is a column vector."
   ]
  },
  {
   "cell_type": "code",
   "execution_count": 88,
   "metadata": {},
   "outputs": [
    {
     "name": "stdout",
     "output_type": "stream",
     "text": [
      "[[32. 24. 83. 23. 40. 36. 51. 51. 54. 36.]\n",
      " [32. 88. 16. 84. 13. 53. 47. 30. 38. 31.]\n",
      " [61. 81. 19. 76. 31. 38. 41. 84. 21. 16.]\n",
      " [47. 91. 24. 92. 47. 97. 70. 14.  8. 96.]\n",
      " [69. 51. 67. 36. 34. 26. 82. 44.  8. 87.]\n",
      " [66. 65. 61. 19. 91. 69. 68. 35. 22. 19.]\n",
      " [20. 12.  0. 65. 55. 91. 12. 21. 74. 98.]\n",
      " [81. 54. 96. 72. 85. 50. 85. 14. 16. 65.]\n",
      " [38. 83. 98. 75. 85. 38. 73. 55. 36. 62.]\n",
      " [31. 14. 78. 69. 14. 62.  4. 61. 32. 38.]]\n",
      "\n",
      "from the above data we know all values of Xi, column vectors\n",
      "\n",
      "Here, we know that n = 10\n",
      "\n",
      "column vector X1: [32. 32. 61. 47. 69. 66. 20. 81. 38. 31.]\n",
      "column vector X2: [24. 88. 81. 91. 51. 65. 12. 54. 83. 14.]\n",
      "column vector X3: [83. 16. 19. 24. 67. 61.  0. 96. 98. 78.]\n",
      "column vector X4: [23. 84. 76. 92. 36. 19. 65. 72. 75. 69.]\n",
      "column vector X5: [40. 13. 31. 47. 34. 91. 55. 85. 85. 14.]\n",
      "column vector X6: [36. 53. 38. 97. 26. 69. 91. 50. 38. 62.]\n",
      "column vector X7: [51. 47. 41. 70. 82. 68. 12. 85. 73.  4.]\n",
      "column vector X8: [51. 30. 84. 14. 44. 35. 21. 14. 55. 61.]\n",
      "column vector X9: [54. 38. 21.  8.  8. 22. 74. 16. 36. 32.]\n",
      "column vector X10: [36. 31. 16. 96. 87. 19. 98. 65. 62. 38.]\n",
      "\n",
      "The value of u is: [43.  43.2 46.8 58.6 50.4 51.5 44.8 61.8 64.3 40.3]\n",
      "\n",
      "The value of v1 is: [-11.  -11.2  14.2 -11.6  18.6  14.5 -24.8  19.2 -26.3  -9.3]\n",
      "The value of v2 is: [-19.   44.8  34.2  32.4   0.6  13.5 -32.8  -7.8  18.7 -26.3]\n",
      "The value of v3 is: [ 40.  -27.2 -27.8 -34.6  16.6   9.5 -44.8  34.2  33.7  37.7]\n",
      "The value of v4 is: [-20.   40.8  29.2  33.4 -14.4 -32.5  20.2  10.2  10.7  28.7]\n",
      "The value of v5 is: [ -3.  -30.2 -15.8 -11.6 -16.4  39.5  10.2  23.2  20.7 -26.3]\n",
      "The value of v6 is: [ -7.    9.8  -8.8  38.4 -24.4  17.5  46.2 -11.8 -26.3  21.7]\n",
      "The value of v7 is: [  8.    3.8  -5.8  11.4  31.6  16.5 -32.8  23.2   8.7 -36.3]\n",
      "The value of v8 is: [  8.  -13.2  37.2 -44.6  -6.4 -16.5 -23.8 -47.8  -9.3  20.7]\n",
      "The value of v9 is: [ 11.   -5.2 -25.8 -50.6 -42.4 -29.5  29.2 -45.8 -28.3  -8.3]\n",
      "The value of v10 is: [ -7.  -12.2 -30.8  37.4  36.6 -32.5  53.2   3.2  -2.3  -2.3]\n",
      "\n",
      "transpose of v1, w1: [-11.  -11.2  14.2 -11.6  18.6  14.5 -24.8  19.2 -26.3  -9.3]\n",
      "transpose of v2, w2: [-19.   44.8  34.2  32.4   0.6  13.5 -32.8  -7.8  18.7 -26.3]\n",
      "transpose of v3, w3: [ 40.  -27.2 -27.8 -34.6  16.6   9.5 -44.8  34.2  33.7  37.7]\n",
      "transpose of v4, w4: [-20.   40.8  29.2  33.4 -14.4 -32.5  20.2  10.2  10.7  28.7]\n",
      "transpose of v5, w5: [ -3.  -30.2 -15.8 -11.6 -16.4  39.5  10.2  23.2  20.7 -26.3]\n",
      "transpose of v6, w6: [ -7.    9.8  -8.8  38.4 -24.4  17.5  46.2 -11.8 -26.3  21.7]\n",
      "transpose of v7, w7: [  8.    3.8  -5.8  11.4  31.6  16.5 -32.8  23.2   8.7 -36.3]\n",
      "transpose of v8, w8: [  8.  -13.2  37.2 -44.6  -6.4 -16.5 -23.8 -47.8  -9.3  20.7]\n",
      "transpose of v9, w9: [ 11.   -5.2 -25.8 -50.6 -42.4 -29.5  29.2 -45.8 -28.3  -8.3]\n",
      "transpose of v10, w10: [ -7.  -12.2 -30.8  37.4  36.6 -32.5  53.2   3.2  -2.3  -2.3]\n",
      "\n",
      "The value of C: 6740.19\n"
     ]
    }
   ],
   "source": [
    "import numpy as np\n",
    "\n",
    "from numpy import loadtxt \n",
    "data = loadtxt ('data.csv', delimiter = ',')\n",
    "print(data)\n",
    "\n",
    "print(\"\\nfrom the above data we know all values of Xi, column vectors\\n\")\n",
    "print(\"Here, we know that n = 10\\n\")\n",
    "\n",
    "print(\"column vector X1:\", data[:,0])\n",
    "print(\"column vector X2:\", data[:,1])\n",
    "print(\"column vector X3:\", data[:,2])\n",
    "print(\"column vector X4:\", data[:,3])\n",
    "print(\"column vector X5:\", data[:,4])\n",
    "print(\"column vector X6:\", data[:,5])\n",
    "print(\"column vector X7:\", data[:,6])\n",
    "print(\"column vector X8:\", data[:,7])\n",
    "print(\"column vector X9:\", data[:,8])\n",
    "print(\"column vector X10:\", data[:,9])\n",
    "\n",
    "u = 0.1*(data[:,0] + data[:,1] + data[:,2] + data[:,3] + data[:,4] + data[:,5] + data[:,6] + data[:,7] + data[:,8] + data[:,9])\n",
    "\n",
    "print(\"\\nThe value of u is:\", u)\n",
    "\n",
    "v1 = (data[:,0] - u)\n",
    "print(\"\\nThe value of v1 is:\", v1)\n",
    "v2 = (data[:,1] - u)\n",
    "print(\"The value of v2 is:\", v2)\n",
    "v3 = (data[:,2] - u)\n",
    "print(\"The value of v3 is:\", v3)\n",
    "v4 = (data[:,3] - u)\n",
    "print(\"The value of v4 is:\", v4)\n",
    "v5 = (data[:,4] - u)\n",
    "print(\"The value of v5 is:\", v5)\n",
    "v6 = (data[:,5] - u)\n",
    "print(\"The value of v6 is:\", v6)\n",
    "v7 = (data[:,6] - u)\n",
    "print(\"The value of v7 is:\", v7)\n",
    "v8 = (data[:,7] - u)\n",
    "print(\"The value of v8 is:\", v8)\n",
    "v9 = (data[:,8] - u)\n",
    "print(\"The value of v9 is:\", v9)\n",
    "v10 = (data[:,9] - u)\n",
    "print(\"The value of v10 is:\", v10)\n",
    "\n",
    "w1 = v1.transpose()\n",
    "print(\"\\ntranspose of v1, w1:\", w1)\n",
    "w2 = v2.transpose()\n",
    "print(\"transpose of v2, w2:\", w2)\n",
    "w3 = v3.transpose()\n",
    "print(\"transpose of v3, w3:\", w3)\n",
    "w4 = v4.transpose()\n",
    "print(\"transpose of v4, w4:\", w4)\n",
    "w5 = v5.transpose()\n",
    "print(\"transpose of v5, w5:\", w5)\n",
    "w6 = v6.transpose()\n",
    "print(\"transpose of v6, w6:\", w6)\n",
    "w7 = v7.transpose()\n",
    "print(\"transpose of v7, w7:\", w7)\n",
    "w8 = v8.transpose()\n",
    "print(\"transpose of v8, w8:\", w8)\n",
    "w9 = v9.transpose()\n",
    "print(\"transpose of v9, w9:\", w9)\n",
    "w10 = v10.transpose()\n",
    "print(\"transpose of v10, w10:\", w10)\n",
    "\n",
    "c = 0.1*((v1.dot(w1)) + (v2.dot(w2)) + (v3.dot(w3)) + (v4.dot(w4)) + (v5.dot(w5)) + (v6.dot(w6)) + (v7.dot(w7)) + (v8.dot(w8)) \n",
    "         + (v9.dot(w9)) + (v10.dot(w10)))\n",
    "print(\"\\nThe value of C:\", c)"
   ]
  },
  {
   "cell_type": "markdown",
   "metadata": {},
   "source": [
    "  "
   ]
  },
  {
   "cell_type": "markdown",
   "metadata": {},
   "source": [
    "Q12. Define a class for a complex number a + jb. Define member functions to do basic operations conjugate, absolute value, addition, subtraction, multiplication, division and angle. Define two complex numbers c1, c2 and print the results of the following operations c1 + c2, c1 - c2, c1c2, c1/c2, |c1|, |c2|, <c1, <c2."
   ]
  },
  {
   "cell_type": "code",
   "execution_count": 11,
   "metadata": {},
   "outputs": [
    {
     "name": "stdout",
     "output_type": "stream",
     "text": [
      "\n",
      "c1:\n",
      "(2+3j)\n",
      "c2:\n",
      "(3+4j)\n",
      "\n",
      "Addition\n",
      "(5+7j)\n",
      "\n",
      "Subtraction:\n",
      "(-1-1j)\n",
      "\n",
      "Multiplication:\n",
      "(18+17j)\n",
      "\n",
      "Division:\n",
      "(-2.5714285714285716-2.4285714285714284j)\n",
      "\n",
      "Absolute value of c1:\n",
      "3.605551275463989\n",
      "\n",
      "Absolute value of c2:\n",
      "5.0\n",
      "\n",
      "Angle of c1 in degrees: 56.309932474020215\n",
      "\n",
      "Angle of c2 in degrees: 53.13010235415598\n"
     ]
    }
   ],
   "source": [
    "import math\n",
    "from math import sqrt\n",
    "import numpy as np\n",
    "\n",
    "class Complex(object):\n",
    "    \n",
    "    def __init__(self, real, imag = 0.0):\n",
    "        self.real = real\n",
    "        self.imag = imag\n",
    "        print(self.real + self.imag)\n",
    "    \n",
    "    def __add__(self, other):\n",
    "        print(\"\\nAddition\")\n",
    "        return Complex(self.real + other.real, self.imag + other.imag)\n",
    "    \n",
    "    def __sub__(self, other):\n",
    "        print('\\nSubtraction:')\n",
    "        return Complex(self.real - other.real, self.imag - other.imag)\n",
    "    \n",
    "    def __mul__(self, other):\n",
    "        print('\\nMultiplication:')\n",
    "        return Complex((self.real * other.real) - (self.imag * other.imag),\n",
    "            (self.imag * other.real) + (self.real * other.imag))\n",
    "\n",
    "    def __truediv__(self, other):\n",
    "        print('\\nDivision:')\n",
    "        r = (other.real**2 + other.imag**2)\n",
    "        return Complex((self.real*other.real - self.imag*other.imag)/r,\n",
    "            (self.imag*other.real + self.real*other.imag)/r)\n",
    "\n",
    "    def __abs__(self):\n",
    "        new = (self.real**2 + (self.imag**2)*-1)\n",
    "        return Complex(sqrt(new.real))\n",
    "    \n",
    "print(\"\\nc1:\")\n",
    "c1 = Complex(2,3j)\n",
    "print(\"c2:\")\n",
    "c2 = Complex(3,4j)\n",
    "\n",
    "c1 + c2 #addition\n",
    "\n",
    "c1 - c2 #subtraction\n",
    "\n",
    "c1 * c2 #multiply\n",
    "\n",
    "c1 / c2 #division\n",
    "\n",
    "print(\"\\nAbsolute value of c1:\")\n",
    "abs(c1)\n",
    "print(\"\\nAbsolute value of c2:\")\n",
    "abs(c2)\n",
    "\n",
    "angle_c1 = np.angle(2+3j, deg = True)\n",
    "print(\"\\nAngle of c1 in degrees:\", angle_c1)\n",
    "\n",
    "angle_c2 = np.angle(3+4j, deg = True)\n",
    "print(\"\\nAngle of c2 in degrees:\", angle_c2)"
   ]
  },
  {
   "cell_type": "markdown",
   "metadata": {},
   "source": [
    "  "
   ]
  },
  {
   "cell_type": "markdown",
   "metadata": {},
   "source": [
    "Q13. Plot the function y = 3x + 2 with x e [-10, 10]. Use Matplotlib for the same."
   ]
  },
  {
   "cell_type": "code",
   "execution_count": 16,
   "metadata": {},
   "outputs": [
    {
     "data": {
      "image/png": "[encoded data removed]",
      "text/plain": [
       "<Figure size 432x288 with 1 Axes>"
      ]
     },
     "metadata": {
      "needs_background": "light"
     },
     "output_type": "display_data"
    }
   ],
   "source": [
    "import numpy as np\n",
    "import matplotlib.pyplot as plt\n",
    "\n",
    "x = np.linspace(-10,10,20)\n",
    "y = 3*x + 2\n",
    "plt.plot(x, y, '-b', label='y=3x+2') # '.' is for linestyle and b for the color blue\n",
    "plt.title('Graph of y=3x+2')\n",
    "plt.grid()\n",
    "plt.show()"
   ]
  },
  {
   "cell_type": "markdown",
   "metadata": {},
   "source": [
    "  "
   ]
  },
  {
   "cell_type": "markdown",
   "metadata": {},
   "source": [
    "Q14. Scatter plot all the points.\n",
    "* Generate a set of n = 100 points, X = xi, i = 1,2, .... n, xi e R^2 within an ellipse centered at ux = 5 and uy = -5 with major axis as 10 and minor axis as 5.\n",
    "* Plot all the points using Matplotlib"
   ]
  },
  {
   "cell_type": "code",
   "execution_count": 13,
   "metadata": {},
   "outputs": [
    {
     "data": {
      "image/png": "[encoded data removed]",
      "text/plain": [
       "<Figure size 432x288 with 1 Axes>"
      ]
     },
     "metadata": {
      "needs_background": "light"
     },
     "output_type": "display_data"
    }
   ],
   "source": [
    "import math\n",
    "import numpy as np\n",
    "import matplotlib.pyplot as plt \n",
    "#from matplotlib import pyplot as plt\n",
    "import numpy.random as rnd\n",
    "from math import pi\n",
    "\n",
    "u=0     #x-position of the center\n",
    "v=0    #y-position of the center\n",
    "a=5     #radius on the x-axis\n",
    "b=2.5    #radius on the y-axis\n",
    "\n",
    "t = np.linspace(0, 2*pi, 100)\n",
    "plt.plot( u+a*np.cos(t) , v+b*np.sin(t) )\n",
    "plt.grid(color='gray',linestyle='--')\n",
    "\n",
    "\n",
    "def generate_theta(a, b):\n",
    "    u = random.random() / 4.0\n",
    "    theta = numpy.arctan(b/a * numpy.tan(2*numpy.pi*u))\n",
    "\n",
    "    v = random.random()\n",
    "    if v < 0.25:\n",
    "        return theta\n",
    "    elif v < 0.5:\n",
    "        return numpy.pi - theta\n",
    "    elif v < 0.75:\n",
    "        return numpy.pi + theta\n",
    "    else:\n",
    "        return -theta\n",
    "\n",
    "def radius(a, b, theta):\n",
    "    return a * b / numpy.sqrt((b*numpy.cos(theta))**2 + (a*numpy.sin(theta))**2)\n",
    "\n",
    "def random_point(a, b):\n",
    "    random_theta = generate_theta(a, b)\n",
    "    max_radius = radius(a, b, random_theta)\n",
    "    random_radius = max_radius * numpy.sqrt(random.random())\n",
    "\n",
    "    return numpy.array([\n",
    "        random_radius * numpy.cos(random_theta),\n",
    "        random_radius * numpy.sin(random_theta)\n",
    "    ])\n",
    "\n",
    "a = 5\n",
    "b = -2.5\n",
    "\n",
    "points = numpy.array([random_point(a, b) for _ in range(100)])\n",
    "\n",
    "plt.scatter(points[:,0], points[:,1])\n",
    "\n",
    "plt.show()\n",
    "\n",
    "\n",
    "\n",
    "\n"
   ]
  }
 ],
 "metadata": {
  "kernelspec": {
   "display_name": "Python 3",
   "language": "python",
   "name": "python3"
  },
  "language_info": {
   "codemirror_mode": {
    "name": "ipython",
    "version": 3
   },
   "file_extension": ".py",
   "mimetype": "text/x-python",
   "name": "python",
   "nbconvert_exporter": "python",
   "pygments_lexer": "ipython3",
   "version": "3.7.6"
  }
 },
 "nbformat": 4,
 "nbformat_minor": 4
}
