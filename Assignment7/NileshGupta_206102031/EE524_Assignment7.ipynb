{
  "nbformat": 4,
  "nbformat_minor": 0,
  "metadata": {
    "colab": {
      "name": "EE524_Assignment7.ipynb",
      "provenance": [],
      "collapsed_sections": [],
      "authorship_tag": "ABX9TyM+7jzOAV61M9bIE9cnIn0m",
      "include_colab_link": true
    },
    "kernelspec": {
      "display_name": "Python 3",
      "name": "python3"
    }
  },
  "cells": [
    {
      "cell_type": "markdown",
      "metadata": {
        "id": "view-in-github",
        "colab_type": "text"
      },
      "source": [
        "<a href=\"https://colab.research.google.com/github/Bluelord/EE524/blob/assignments/Assignment7/NileshGupta_206102031/EE524_Assignment7.ipynb\" target=\"_parent\"><img src=\"https://colab.research.google.com/assets/colab-badge.svg\" alt=\"Open In Colab\"/></a>"
      ]
    },
    {
      "cell_type": "markdown",
      "metadata": {
        "id": "FOoykk8_u6E_"
      },
      "source": [
        "# **EE524 Introduction to Machine Learning Lab**\n",
        "\n",
        "\n"
      ]
    },
    {
      "cell_type": "markdown",
      "metadata": {
        "id": "ZH3UZb2uw2j5"
      },
      "source": [
        "Name: **Nilesh Gupta**, Ph.D. EEE Department. \n",
        "\n",
        "Roll No. **206102031**\n",
        "\n"
      ]
    },
    {
      "cell_type": "code",
      "metadata": {
        "id": "nu1sx7rJrZBd"
      },
      "source": [
        "# Importing Libraries \n",
        "import numpy as np\n",
        "import pandas as pd\n",
        "import matplotlib.pyplot as plt\n",
        "from scipy import misc"
      ],
      "execution_count": 64,
      "outputs": []
    },
    {
      "cell_type": "markdown",
      "metadata": {
        "id": "Xa-w__LkAJ3a"
      },
      "source": [
        "**(1)** 2D function $f(x) = x^2 + 3x + 2$ "
      ]
    },
    {
      "cell_type": "code",
      "metadata": {
        "colab": {
          "base_uri": "https://localhost:8080/",
          "height": 312
        },
        "id": "x7g-Lls9ii3K",
        "outputId": "b3703ec5-21be-49cb-bbe1-e29336ef8de4"
      },
      "source": [
        "# Function\n",
        "def f(x):\n",
        "    return x**2+3*x+2\n",
        "\n",
        "x = np.linspace(-10.0, 10.0, 100)\n",
        "y = f(x)\n",
        "\n",
        "# ploting the function for overlaying the gradiant Descent points\n",
        "plt.plot(x, y,'r-')\n",
        "\n",
        "alpha = 0.1 # learning rate\n",
        "max_iteration = 1000\n",
        "precision = 0.0001 # stop condition\n",
        "\n",
        "x0 = 9 # Initial point for finding Minima\n",
        "y0 = f(x0)\n",
        "plt.scatter(x0, f(x0))\n",
        "# start with condition greater than precision (assumption)\n",
        "condition = precision + 10.0 \n",
        "iteration = 0 \n",
        "tmp_y = y0\n",
        "while condition > precision and iteration < max_iteration: # Stop condition\n",
        "    x0 = x0 - alpha * misc.derivative(f, x0) # Using the gradiant (Derivative)\n",
        "    y0 = f(x0)\n",
        "    iterration = iteration + 1\n",
        "    condition = abs( tmp_y - y0 )\n",
        "    tmp_y = y0\n",
        "   # print (x0,y0,condition)\n",
        "    plt.scatter(x0, y0)\n",
        "plt.xlabel(\"$x$\")\n",
        "plt.ylabel(\"$f(x)$ \")\n",
        "plt.title(\"Mniima using Gradient Descent\")\n",
        "plt.show()\n",
        "# The Minima of the Function\n",
        "print(\"The Minima of the function is:{},{} \".format(x0,y0,condition))\n",
        "# Approximatly (-1.5, -0.25)"
      ],
      "execution_count": 65,
      "outputs": [
        {
          "output_type": "display_data",
          "data": {
            "image/png": "[encoded data removed]",
            "text/plain": [
              "<Figure size 432x288 with 1 Axes>"
            ]
          },
          "metadata": {
            "tags": [],
            "needs_background": "light"
          }
        },
        {
          "output_type": "stream",
          "text": [
            "The Minima of the function is:-1.4870016295875035,-0.2498310423666199 \n"
          ],
          "name": "stdout"
        }
      ]
    },
    {
      "cell_type": "markdown",
      "metadata": {
        "id": "9z8i5jgFpzZg"
      },
      "source": [
        "**(2)** 3D function $f(x_1; x_2) = x_1^2 + x_2^2$"
      ]
    },
    {
      "cell_type": "code",
      "metadata": {
        "id": "_bCTt_ZQoGw3",
        "colab": {
          "base_uri": "https://localhost:8080/",
          "height": 298
        },
        "outputId": "a2ec962e-0982-474a-c68b-4e19f330a12e"
      },
      "source": [
        "# Function\n",
        "def f(x1,x2):\n",
        "    return (x1**2 + x2**2);\n",
        "\n",
        "def partial_derivative(func, var=0, point=[]):\n",
        "    args = point[:]\n",
        "    def wraps(x):\n",
        "        args[var] = x\n",
        "        return func(*args)\n",
        "    return misc.derivative(wraps, point[var], dx = 1e-6)\n",
        "\n",
        "# Plot Function\n",
        "x1 = np.linspace(-10.0, 10.0, 100)\n",
        "x2 = np.linspace(-10.0, 10.0, 100)\n",
        "xx1,xx2 = np.meshgrid(x1,x2);\n",
        "z = (xx1**2 + xx2**2);\n",
        "h = plt.contourf(x1,x2,z)\n",
        "# Gradient Descent\n",
        "alpha = 0.1 # learning rate\n",
        "max_iteration = 1000\n",
        "precision = 0.0001 # stop condition\n",
        "# start point\n",
        "x1_0 = 9 \n",
        "x2_0 = 7 \n",
        "z0 = f(x1_0,x2_0)\n",
        "plt.scatter(x1_0,x2_0)\n",
        "\n",
        "condition = precision + 10.0 # start with cond greater than eps (assumption)\n",
        "iteration = 0 \n",
        "tmp_z0 = z0\n",
        "while condition > precision and iteration < max_iteration:\n",
        "    tmp_x1_0 = x1_0 - alpha * partial_derivative(f, 0, [x1_0,x2_0])\n",
        "    tmp_x2_0 = x2_0 - alpha * partial_derivative(f, 1, [x1_0,x2_0])\n",
        "    x1_0 = tmp_x1_0\n",
        "    x2_0 = tmp_x2_0\n",
        "    z0 = f(x1_0,x2_0)\n",
        "    iteration = iteration + 1\n",
        "    cond = abs( tmp_z0 - z0 )\n",
        "    tmp_z0 = z0\n",
        "    plt.scatter(x1_0, x2_0)\n",
        "plt.title(\"Gradient Descent\")\n",
        "plt.show()\n",
        "\n",
        "# The Minima of the Function\n",
        "print(\"The Minima of the function is:{},{} \".format(x1_0,x2_0,condition))\n",
        "# Approximatly (0,0)"
      ],
      "execution_count": 66,
      "outputs": [
        {
          "output_type": "display_data",
          "data": {
            "image/png": "[encoded data removed]",
            "text/plain": [
              "<Figure size 432x288 with 1 Axes>"
            ]
          },
          "metadata": {
            "tags": [],
            "needs_background": "light"
          }
        },
        {
          "output_type": "stream",
          "text": [
            "The Minima of the function is:1.0087402946598817e-22,9.145515647539412e-23 \n"
          ],
          "name": "stdout"
        }
      ]
    },
    {
      "cell_type": "markdown",
      "metadata": {
        "id": "De6WX_gY2eyr"
      },
      "source": [
        "**Boolean Function Learning**"
      ]
    },
    {
      "cell_type": "markdown",
      "metadata": {
        "id": "oflNddIZ2qgW"
      },
      "source": [
        "$y = f(x_1; x_2) = x_1.x_2$\n",
        "\n"
      ]
    },
    {
      "cell_type": "code",
      "metadata": {
        "id": "--MZwHQa33-u"
      },
      "source": [
        "# These are XOR inputs\n",
        "x=np.array([[0,0,1,1],\n",
        "            [0,1,0,1]])\n",
        "# These are XOR outputs\n",
        "y=np.array([[0,0,0,1]])\n",
        "# Number of inputs, output & hidden layer\n",
        "n_x = 2\n",
        "n_y = 1\n",
        "n_h = 2\n",
        "\n",
        "m = x.shape[1]\n",
        "alpha = 0.1                    # Learning rate\n",
        "w1 = np.random.rand(n_h,n_x)   # Weight matrix for hidden layer\n",
        "w2 = np.random.rand(n_y,n_h)   # Weight matrix for output layer\n",
        "losses = []"
      ],
      "execution_count": 67,
      "outputs": []
    },
    {
      "cell_type": "code",
      "metadata": {
        "id": "JOjS4sLD8pkG"
      },
      "source": [
        "# sigmoid activation function for hidden layer and output\n",
        "def sigmoid(z):\n",
        "    z= 1/(1+np.exp(-z))\n",
        "    return z\n",
        "\n",
        "# Forward propagation\n",
        "def forward_prop(w1,w2,x):\n",
        "    z1 = np.dot(w1,x)\n",
        "    a1 = sigmoid(z1)    \n",
        "    z2 = np.dot(w2,a1)\n",
        "    a2 = sigmoid(z2)\n",
        "    return z1,a1,z2,a2\n",
        "\n",
        "# Backward propagation\n",
        "def back_prop(m,w1,w2,z1,a1,z2,a2,y): \n",
        "    dz2 = a2-y\n",
        "    dw2 = np.dot(dz2,a1.T)/m\n",
        "    dz1 = np.dot(w2.T,dz2) * a1*(1-a1)\n",
        "    dw1 = np.dot(dz1,x.T)/m\n",
        "    dw1 = np.reshape(dw1,w1.shape)\n",
        "    dw2 = np.reshape(dw2,w2.shape)    \n",
        "    return dz2,dw2,dz1,dw1"
      ],
      "execution_count": 68,
      "outputs": []
    },
    {
      "cell_type": "code",
      "metadata": {
        "colab": {
          "base_uri": "https://localhost:8080/",
          "height": 296
        },
        "id": "-V__FlUR8wU1",
        "outputId": "d2d5f129-5676-4b72-8d1b-2e1d595bd7c1"
      },
      "source": [
        "iterations = 5000\n",
        "for i in range(iterations):\n",
        "    z1,a1,z2,a2 = forward_prop(w1,w2,x)\n",
        "    loss = -(1/m)*np.sum(y*np.log(a2)+(1-y)*np.log(1-a2))\n",
        "    losses.append(loss)\n",
        "    da2,dw2,dz1,dw1 = back_prop(m,w1,w2,z1,a1,z2,a2,y)\n",
        "    w2 = w2-alpha*dw2\n",
        "    w1 = w1-alpha*dw1\n",
        "\n",
        "# We plot losses to see how our network is doing\n",
        "plt.plot(losses)\n",
        "plt.xlabel(\"EPOCHS\")\n",
        "plt.ylabel(\"Loss value\")"
      ],
      "execution_count": 69,
      "outputs": [
        {
          "output_type": "execute_result",
          "data": {
            "text/plain": [
              "Text(0, 0.5, 'Loss value')"
            ]
          },
          "metadata": {
            "tags": []
          },
          "execution_count": 69
        },
        {
          "output_type": "display_data",
          "data": {
            "image/png": "[encoded data removed]",
            "text/plain": [
              "<Figure size 432x288 with 1 Axes>"
            ]
          },
          "metadata": {
            "tags": [],
            "needs_background": "light"
          }
        }
      ]
    },
    {
      "cell_type": "code",
      "metadata": {
        "id": "qgaYUKox84Bb"
      },
      "source": [
        "# Predicting the test input\n",
        "def predict(w1,w2,input):\n",
        "    z1,a1,z2,a2 = forward_prop(w1,w2,test)\n",
        "    a2 = np.squeeze(a2)\n",
        "    if a2>=0.5:\n",
        "        print(\"For input\", [i[0] for i in input], \"output is 1\")\n",
        "    else:\n",
        "        print(\"For input\", [i[0] for i in input], \"output is 0\")"
      ],
      "execution_count": 70,
      "outputs": []
    },
    {
      "cell_type": "code",
      "metadata": {
        "colab": {
          "base_uri": "https://localhost:8080/"
        },
        "id": "dk72qwb78-80",
        "outputId": "51cded07-5d3d-47e1-ec56-d6eba6cce121"
      },
      "source": [
        "test = np.array([[1],[0]])\n",
        "predict(w1,w2,test)\n",
        "test = np.array([[0],[0]])\n",
        "predict(w1,w2,test)\n",
        "test = np.array([[0],[1]])\n",
        "predict(w1,w2,test)\n",
        "test = np.array([[1],[1]])\n",
        "predict(w1,w2,test)"
      ],
      "execution_count": 71,
      "outputs": [
        {
          "output_type": "stream",
          "text": [
            "For input [1, 0] output is 0\n",
            "For input [0, 0] output is 0\n",
            "For input [0, 1] output is 0\n",
            "For input [1, 1] output is 0\n"
          ],
          "name": "stdout"
        }
      ]
    },
    {
      "cell_type": "markdown",
      "metadata": {
        "id": "ahN9c2us964s"
      },
      "source": [
        "$y = f(x_1; x_2) = x_1 \\oplus  x_2$"
      ]
    },
    {
      "cell_type": "code",
      "metadata": {
        "id": "QAz28K2f9A8G"
      },
      "source": [
        "# These are XOR Inputs & Output\n",
        "x=np.array([[0,0,1,1],[0,1,0,1]])\n",
        "# These are XOR outputs\n",
        "y=np.array([[0,1,1,0]])\n",
        "# Number of inputs, output and hidden layers\n",
        "n_x = 2\n",
        "n_y = 1\n",
        "n_h = 2\n",
        "\n",
        "m = x.shape[1]\n",
        "\n",
        "alpha = 0.1                    # Learning rate\n",
        "w1 = np.random.rand(n_h,n_x)   # Weight matrix for hidden layer\n",
        "w2 = np.random.rand(n_y,n_h)   # Weight matrix for output layer\n",
        "losses = []"
      ],
      "execution_count": 72,
      "outputs": []
    },
    {
      "cell_type": "code",
      "metadata": {
        "id": "6FJqhzRs9-C4"
      },
      "source": [
        "# sigmoid activation function for hidden layer and output\n",
        "def sigmoid(z):\n",
        "    z= 1/(1+np.exp(-z))\n",
        "    return z\n",
        "\n",
        "# Forward propagation\n",
        "def forward_prop(w1,w2,x):\n",
        "    z1 = np.dot(w1,x)\n",
        "    a1 = sigmoid(z1)    \n",
        "    z2 = np.dot(w2,a1)\n",
        "    a2 = sigmoid(z2)\n",
        "    return z1,a1,z2,a2\n",
        "\n",
        "# Backward propagation\n",
        "def back_prop(m,w1,w2,z1,a1,z2,a2,y):\n",
        "    dz2 = a2-y\n",
        "    dw2 = np.dot(dz2,a1.T)/m\n",
        "    dz1 = np.dot(w2.T,dz2) * a1*(1-a1)\n",
        "    dw1 = np.dot(dz1,x.T)/m\n",
        "    dw1 = np.reshape(dw1,w1.shape)\n",
        "    dw2 = np.reshape(dw2,w2.shape)    \n",
        "    return dz2,dw2,dz1,dw1"
      ],
      "execution_count": 73,
      "outputs": []
    },
    {
      "cell_type": "code",
      "metadata": {
        "colab": {
          "base_uri": "https://localhost:8080/",
          "height": 296
        },
        "id": "OIDBXL1k-AsP",
        "outputId": "cede440b-a219-4f3a-f434-a8a6f6355ae3"
      },
      "source": [
        "iterations = 50000\n",
        "for i in range(iterations):\n",
        "    z1,a1,z2,a2 = forward_prop(w1,w2,x)\n",
        "    loss = -(1/m)*np.sum(y*np.log(a2)+(1-y)*np.log(1-a2))\n",
        "    losses.append(loss)\n",
        "    da2,dw2,dz1,dw1 = back_prop(m,w1,w2,z1,a1,z2,a2,y)\n",
        "    w2 = w2-alpha*dw2\n",
        "    w1 = w1-alpha*dw1\n",
        "# We plot losses to see how our network\n",
        "plt.plot(losses)\n",
        "plt.xlabel(\"EPOCHS\")\n",
        "plt.ylabel(\"Loss value\")"
      ],
      "execution_count": 74,
      "outputs": [
        {
          "output_type": "execute_result",
          "data": {
            "text/plain": [
              "Text(0, 0.5, 'Loss value')"
            ]
          },
          "metadata": {
            "tags": []
          },
          "execution_count": 74
        },
        {
          "output_type": "display_data",
          "data": {
            "image/png": "[encoded data removed]",
            "text/plain": [
              "<Figure size 432x288 with 1 Axes>"
            ]
          },
          "metadata": {
            "tags": [],
            "needs_background": "light"
          }
        }
      ]
    },
    {
      "cell_type": "code",
      "metadata": {
        "id": "yY2ktzny-EP9"
      },
      "source": [
        "# Predicting the test input.\n",
        "def predict(w1,w2,input):\n",
        "    z1,a1,z2,a2 = forward_prop(w1,w2,test)\n",
        "    a2 = np.squeeze(a2)\n",
        "    if a2>=0.5:\n",
        "        print(\"For input\", [i[0] for i in input], \"output is 1\")\n",
        "    else:\n",
        "        print(\"For input\", [i[0] for i in input], \"output is 0\")"
      ],
      "execution_count": 75,
      "outputs": []
    },
    {
      "cell_type": "code",
      "metadata": {
        "colab": {
          "base_uri": "https://localhost:8080/"
        },
        "id": "RVO0Mf7e-KCe",
        "outputId": "f41cb3f2-19de-4699-8344-e0511e71572c"
      },
      "source": [
        "test = np.array([[1],[0]])\n",
        "predict(w1,w2,test)\n",
        "test = np.array([[0],[0]])\n",
        "predict(w1,w2,test)\n",
        "test = np.array([[0],[1]])\n",
        "predict(w1,w2,test)\n",
        "test = np.array([[1],[1]])\n",
        "predict(w1,w2,test)"
      ],
      "execution_count": 76,
      "outputs": [
        {
          "output_type": "stream",
          "text": [
            "For input [1, 0] output is 1\n",
            "For input [0, 0] output is 0\n",
            "For input [0, 1] output is 1\n",
            "For input [1, 1] output is 0\n"
          ],
          "name": "stdout"
        }
      ]
    }
  ]
}