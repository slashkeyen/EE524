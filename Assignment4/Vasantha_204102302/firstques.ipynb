{
 "cells": [
  {
   "cell_type": "markdown",
   "metadata": {},
   "source": [
    "# QUESTION-1"
   ]
  },
  {
   "cell_type": "markdown",
   "metadata": {},
   "source": [
    "# 1.load the data set"
   ]
  },
  {
   "cell_type": "code",
   "execution_count": 9,
   "metadata": {},
   "outputs": [
    {
     "name": "stdout",
     "output_type": "stream",
     "text": [
      "     sepal_length  sepal_width  petal_length  petal_width         species\n",
      "0             5.1          3.5           1.4          0.2     Iris-setosa\n",
      "1             4.9          3.0           1.4          0.2     Iris-setosa\n",
      "2             4.7          3.2           1.3          0.2     Iris-setosa\n",
      "3             4.6          3.1           1.5          0.2     Iris-setosa\n",
      "4             5.0          3.6           1.4          0.2     Iris-setosa\n",
      "..            ...          ...           ...          ...             ...\n",
      "145           6.7          3.0           5.2          2.3  Iris-virginica\n",
      "146           6.3          2.5           5.0          1.9  Iris-virginica\n",
      "147           6.5          3.0           5.2          2.0  Iris-virginica\n",
      "148           6.2          3.4           5.4          2.3  Iris-virginica\n",
      "149           5.9          3.0           5.1          1.8  Iris-virginica\n",
      "\n",
      "[150 rows x 5 columns]\n"
     ]
    }
   ],
   "source": [
    "#import the required libraries\n",
    "import pandas as pd\n",
    "import numpy as np\n",
    "import matplotlib.pyplot as plt\n",
    "from sklearn.model_selection import train_test_split\n",
    "from sklearn.neighbors import KNeighborsClassifier\n",
    "import pandas as pd\n",
    "import numpy as np\n",
    "import math\n",
    "import operator\n",
    "# 1.loading the data set\n",
    "attributes = [\"sepal_length\", \"sepal_width\", \"petal_length\", \"petal_width\", \"species\"]\n",
    "data = pd.read_csv('IRIS.data', names = attributes)  # read the csv data\n",
    "data.columns = attributes  # represents index for columns\n",
    "print(data)"
   ]
  },
  {
   "cell_type": "markdown",
   "metadata": {},
   "source": [
    "# 2.normalise the data set"
   ]
  },
  {
   "cell_type": "code",
   "execution_count": 10,
   "metadata": {},
   "outputs": [
    {
     "name": "stdout",
     "output_type": "stream",
     "text": [
      "max value for sepal_length feature  =  7.9\n",
      "min value for sepal_length feature  =  4.3\n",
      "max value for sepal_width feature   =  4.4\n",
      "min value for sepal_width feature   =  2.0\n",
      "max value for petal_length feature  =  6.9\n",
      "min value for petal_length feature  =  1.0\n",
      "max value for petal_width feature   =  2.5\n",
      "min value for petal_width feature   =  0.1\n"
     ]
    }
   ],
   "source": [
    "#normalize the data set\n",
    "df1=data[\"sepal_length\"]\n",
    "df2=data[\"sepal_width\"]\n",
    "df3=data[\"petal_length\"]\n",
    "df4=data[\"petal_width\"]\n",
    "print('max value for sepal_length feature  = ',df1.max())\n",
    "print('min value for sepal_length feature  = ',df1.min())\n",
    "print('max value for sepal_width feature   = ',df2.max())\n",
    "print('min value for sepal_width feature   = ',df2.min())\n",
    "print('max value for petal_length feature  = ',df3.max())\n",
    "print('min value for petal_length feature  = ',df3.min())\n",
    "print('max value for petal_width feature   = ',df4.max())\n",
    "print('min value for petal_width feature   = ',df4.min())"
   ]
  },
  {
   "cell_type": "code",
   "execution_count": 11,
   "metadata": {},
   "outputs": [
    {
     "data": {
      "text/html": [
       "<div>\n",
       "<style scoped>\n",
       "    .dataframe tbody tr th:only-of-type {\n",
       "        vertical-align: middle;\n",
       "    }\n",
       "\n",
       "    .dataframe tbody tr th {\n",
       "        vertical-align: top;\n",
       "    }\n",
       "\n",
       "    .dataframe thead th {\n",
       "        text-align: right;\n",
       "    }\n",
       "</style>\n",
       "<table border=\"1\" class=\"dataframe\">\n",
       "  <thead>\n",
       "    <tr style=\"text-align: right;\">\n",
       "      <th></th>\n",
       "      <th>sepal_length</th>\n",
       "      <th>sepal_width</th>\n",
       "      <th>petal_length</th>\n",
       "      <th>petal_width</th>\n",
       "    </tr>\n",
       "  </thead>\n",
       "  <tbody>\n",
       "    <tr>\n",
       "      <th>0</th>\n",
       "      <td>0.222222</td>\n",
       "      <td>0.625000</td>\n",
       "      <td>0.067797</td>\n",
       "      <td>0.041667</td>\n",
       "    </tr>\n",
       "    <tr>\n",
       "      <th>1</th>\n",
       "      <td>0.166667</td>\n",
       "      <td>0.416667</td>\n",
       "      <td>0.067797</td>\n",
       "      <td>0.041667</td>\n",
       "    </tr>\n",
       "    <tr>\n",
       "      <th>2</th>\n",
       "      <td>0.111111</td>\n",
       "      <td>0.500000</td>\n",
       "      <td>0.050847</td>\n",
       "      <td>0.041667</td>\n",
       "    </tr>\n",
       "    <tr>\n",
       "      <th>3</th>\n",
       "      <td>0.083333</td>\n",
       "      <td>0.458333</td>\n",
       "      <td>0.084746</td>\n",
       "      <td>0.041667</td>\n",
       "    </tr>\n",
       "    <tr>\n",
       "      <th>4</th>\n",
       "      <td>0.194444</td>\n",
       "      <td>0.666667</td>\n",
       "      <td>0.067797</td>\n",
       "      <td>0.041667</td>\n",
       "    </tr>\n",
       "    <tr>\n",
       "      <th>...</th>\n",
       "      <td>...</td>\n",
       "      <td>...</td>\n",
       "      <td>...</td>\n",
       "      <td>...</td>\n",
       "    </tr>\n",
       "    <tr>\n",
       "      <th>145</th>\n",
       "      <td>0.666667</td>\n",
       "      <td>0.416667</td>\n",
       "      <td>0.711864</td>\n",
       "      <td>0.916667</td>\n",
       "    </tr>\n",
       "    <tr>\n",
       "      <th>146</th>\n",
       "      <td>0.555556</td>\n",
       "      <td>0.208333</td>\n",
       "      <td>0.677966</td>\n",
       "      <td>0.750000</td>\n",
       "    </tr>\n",
       "    <tr>\n",
       "      <th>147</th>\n",
       "      <td>0.611111</td>\n",
       "      <td>0.416667</td>\n",
       "      <td>0.711864</td>\n",
       "      <td>0.791667</td>\n",
       "    </tr>\n",
       "    <tr>\n",
       "      <th>148</th>\n",
       "      <td>0.527778</td>\n",
       "      <td>0.583333</td>\n",
       "      <td>0.745763</td>\n",
       "      <td>0.916667</td>\n",
       "    </tr>\n",
       "    <tr>\n",
       "      <th>149</th>\n",
       "      <td>0.444444</td>\n",
       "      <td>0.416667</td>\n",
       "      <td>0.694915</td>\n",
       "      <td>0.708333</td>\n",
       "    </tr>\n",
       "  </tbody>\n",
       "</table>\n",
       "<p>150 rows × 4 columns</p>\n",
       "</div>"
      ],
      "text/plain": [
       "     sepal_length  sepal_width  petal_length  petal_width\n",
       "0        0.222222     0.625000      0.067797     0.041667\n",
       "1        0.166667     0.416667      0.067797     0.041667\n",
       "2        0.111111     0.500000      0.050847     0.041667\n",
       "3        0.083333     0.458333      0.084746     0.041667\n",
       "4        0.194444     0.666667      0.067797     0.041667\n",
       "..            ...          ...           ...          ...\n",
       "145      0.666667     0.416667      0.711864     0.916667\n",
       "146      0.555556     0.208333      0.677966     0.750000\n",
       "147      0.611111     0.416667      0.711864     0.791667\n",
       "148      0.527778     0.583333      0.745763     0.916667\n",
       "149      0.444444     0.416667      0.694915     0.708333\n",
       "\n",
       "[150 rows x 4 columns]"
      ]
     },
     "execution_count": 11,
     "metadata": {},
     "output_type": "execute_result"
    }
   ],
   "source": [
    "#Normalising the data set\n",
    "norm = data.drop('species', axis='columns')\n",
    "norm_values = norm.apply(lambda x:(x-x.min(axis=0))/(x.max(axis=0)-x.min(axis=0)))\n",
    "norm_values"
   ]
  },
  {
   "cell_type": "markdown",
   "metadata": {},
   "source": [
    "# 3.distance metric"
   ]
  },
  {
   "cell_type": "code",
   "execution_count": 12,
   "metadata": {},
   "outputs": [],
   "source": [
    "def EuclideanDistance(data1, data2, length):\n",
    "    distance = 0\n",
    "    for x in range(length):\n",
    "        distance += np.square(data1[x] - data2[x])\n",
    "    return np.sqrt(distance)"
   ]
  },
  {
   "cell_type": "markdown",
   "metadata": {},
   "source": [
    "# 4.nearest neighbours"
   ]
  },
  {
   "cell_type": "code",
   "execution_count": 13,
   "metadata": {},
   "outputs": [],
   "source": [
    "#nearest neighbours\n",
    "def Neighbours(data,testVector,k=5):\n",
    "    neighbours = []\n",
    "    for point in data:\n",
    "        dist = euclidean_distance(point, testVector)\n",
    "        neighbours.append([point, dist])\n",
    "    neighbours.sort(key = lambda x: x[1])\n",
    "    nearNeighbours = []\n",
    "    for i in range(k):\n",
    "        nearNeighbours.append(neighbours[i][0])\n",
    "    return nearNeighbours"
   ]
  },
  {
   "cell_type": "markdown",
   "metadata": {},
   "source": [
    "# 5.prediction using KNN"
   ]
  },
  {
   "cell_type": "code",
   "execution_count": 14,
   "metadata": {},
   "outputs": [],
   "source": [
    "def KNN(data, testsample1, k):\n",
    "#Create sets for distances, sorted list of distances and the length\n",
    "    distances = {}\n",
    "    sort = {}\n",
    "    length = testsample1.shape[1]\n",
    "#EuclideanDistance function \n",
    "    for x in range(len(data)):\n",
    "        dist = EuclideanDistance(testsample1,data.iloc[x],length)\n",
    "        distances[x] = dist[0]\n",
    "#sorting\n",
    "    sorted_d = sorted(distances.items(), key=operator.itemgetter(1))\n",
    "    # 2.4.3.: take top k neighbors\n",
    "    neighbors = []\n",
    "    for x in range(k):\n",
    "        neighbors.append(sorted_d[x][0])\n",
    "#frequent class\n",
    "    classs = {}\n",
    "    for x in range(len(neighbors)):\n",
    "        response = data.iloc[neighbors[x]][-1]\n",
    "        if response in classs:\n",
    "            classs[response] += 1\n",
    "        else:\n",
    "            classs[response] = 1\n",
    "    sortedVotes = sorted(classs.items(), key=operator.itemgetter(1), reverse=True)\n",
    "    return(sortedVotes[0][0], neighbors)"
   ]
  },
  {
   "cell_type": "markdown",
   "metadata": {},
   "source": [
    "# 6.test"
   ]
  },
  {
   "cell_type": "code",
   "execution_count": 15,
   "metadata": {},
   "outputs": [
    {
     "name": "stdout",
     "output_type": "stream",
     "text": [
      "the neighbors of test sample1 are: [114, 106, 121, 113, 59]\n",
      "the testsample1 belongs to  Iris-virginica\n",
      "the neighbors of test sample1 are: [1, 45, 12, 9, 34]\n",
      "the testsample1 belongs to  Iris-setosa\n",
      "the neighbors of test sample1 are: [138, 127, 70, 126, 149]\n",
      "the testsample1 belongs to  Iris-virginica\n"
     ]
    }
   ],
   "source": [
    "#test\n",
    "k=5\n",
    "data=data\n",
    "testsample11=[[5.1, 2.5, 3.2, 4.3]]\n",
    "testsample1 = pd.DataFrame(testsample11)\n",
    "testsample22=[[4.9, 3, 1.4, 0.2]]\n",
    "testsample2 = pd.DataFrame(testsample22)\n",
    "testsample33=[[6, 3, 4.8, 1.8]]\n",
    "testsample3 = pd.DataFrame(testsample33)\n",
    "result1, neighbours1 = KNN(data, testsample1, k)\n",
    "result2, neighbours2 = KNN(data, testsample2, k)\n",
    "result3, neighbours3 = KNN(data, testsample3, k)\n",
    "print(\"the neighbors of test sample1 are:\",neighbours1)\n",
    "print(\"the testsample1 belongs to \",result1)\n",
    "print(\"the neighbors of test sample1 are:\",neighbours2)\n",
    "print(\"the testsample1 belongs to \",result2)\n",
    "print(\"the neighbors of test sample1 are:\",neighbours3)\n",
    "print(\"the testsample1 belongs to \",result3)"
   ]
  },
  {
   "cell_type": "markdown",
   "metadata": {},
   "source": [
    "# accuracy and tuning"
   ]
  },
  {
   "cell_type": "code",
   "execution_count": 22,
   "metadata": {},
   "outputs": [
    {
     "name": "stdout",
     "output_type": "stream",
     "text": [
      "K value :\n",
      "[1, 3, 5, 7, 11, 13, 15, 27, 59]\n",
      "\n",
      "\n",
      "Accuracy Score : \n",
      "[0.5, 0.5, 0.5, 0.5, 0.5, 0.5, 0.5, 0.5, 0.5]\n",
      "\n",
      "\n",
      "Accuracy : \n",
      "[0.95, 0.9666666666666667, 0.9833333333333333, 0.9666666666666667, 0.9666666666666667, 0.9666666666666667, 0.9333333333333333, 0.9166666666666666, 0.8166666666666667]\n"
     ]
    }
   ],
   "source": [
    "iris_df=data\n",
    "iris = load_iris()\n",
    "X = iris.data  # X will be feature matrix\n",
    "y = iris.target  # y will be label vector\n",
    "def accuracy(x):\n",
    "    if x == 'setosa':\n",
    "        return 0\n",
    "    elif x == 'versicolor':\n",
    "        return 1\n",
    "    elif x == 'virginica':\n",
    "        return 2\n",
    "listK = [1,3,5,7,11,13,15,27,59,]\n",
    "ScoreK = []\n",
    "AccuracyK = []\n",
    "for k in listK:\n",
    "            data1 = KNeighborsClassifier(n_neighbors=k)\n",
    "            data1.fit(X, y)\n",
    "            X_Testing = [[5.1, 2.5, 3.2, 4.3]]\n",
    "            y_predict = data1.predict(X_Testing)\n",
    "            iris_df['label'] = iris_df['species'].apply(accuracy)\n",
    "            feature_cols = ['sepal_length','sepal_width','petal_length','petal_width']\n",
    "            X = iris_df[feature_cols]  \n",
    "            y = iris_df['species']\n",
    "            from sklearn.model_selection import train_test_split\n",
    "            X_train, X_test, y_train, y_test = train_test_split(X, y, test_size=0.4, random_state=6)\n",
    "            data1.fit(X_train, y_train)\n",
    "            # Testing on the testing set:\n",
    "            y_predict = data1.predict(X_test)\n",
    "            from sklearn.metrics import accuracy_score\n",
    "            accuracy = accuracy_score(y_test, y_predict)\n",
    "            AccuracyK.append(accuracy)\n",
    "            \n",
    "print( 'K value :')    \n",
    "print(listK)\n",
    "print('\\n')\n",
    "print('accuracy score':)\n",
    "print(accuracyscore)\n",
    "print('Accuracy : ')\n",
    "print(AccuracyK)"
   ]
  },
  {
   "cell_type": "code",
   "execution_count": null,
   "metadata": {},
   "outputs": [],
   "source": []
  }
 ],
 "metadata": {
  "kernelspec": {
   "display_name": "Python 3",
   "language": "python",
   "name": "python3"
  }
 },
 "nbformat": 4,
 "nbformat_minor": 4
}
