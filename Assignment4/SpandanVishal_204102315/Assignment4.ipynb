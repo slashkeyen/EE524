{
  "nbformat": 4,
  "nbformat_minor": 0,
  "metadata": {
    "colab": {
      "name": "Assignment4.ipynb",
      "provenance": [],
      "collapsed_sections": []
    },
    "kernelspec": {
      "name": "python3",
      "display_name": "Python 3"
    }
  },
  "cells": [
    {
      "cell_type": "code",
      "metadata": {
        "id": "dXFUZRFhoRZt",
        "outputId": "87ba15d5-d6e7-4493-ba6a-4919354db745",
        "colab": {
          "base_uri": "https://localhost:8080/",
          "height": 300
        }
      },
      "source": [
        "#Q1(a)\n",
        "import numpy as np\n",
        "import matplotlib.pyplot as plt\n",
        "X=np.linspace(-10,10,100)\n",
        "def Normal(mu,var):\n",
        "  return np.exp(-np.square(X-mu)/(2*var))/(np.sqrt(2*np.pi*var))\n",
        "N1=Normal(0,1)\n",
        "N2=Normal(3,2)\n",
        "plt.plot(X,N1,color='red')\n",
        "plt.plot(X,N2,color='blue')\n",
        "plt.grid(True)\n",
        "plt.title('Normal function',fontsize=20)\n",
        "plt.xlabel('x')\n",
        "plt.show()\n",
        "#N(3,2) has more spread than N(0,1)\n",
        "#N(3,2) is shifted to right because of nonzero mean.N(0,1) centered at 0 and N(3,2) centered at 3\n",
        "#The peaks are also different."
      ],
      "execution_count": 4,
      "outputs": [
        {
          "output_type": "display_data",
          "data": {
            "image/png": "[encoded data removed]",
            "text/plain": [
              "<Figure size 432x288 with 1 Axes>"
            ]
          },
          "metadata": {
            "tags": [],
            "needs_background": "light"
          }
        }
      ]
    },
    {
      "cell_type": "code",
      "metadata": {
        "id": "x0zHF8nRJDqH",
        "outputId": "88e31b4a-087e-4bb2-9590-7dcf9d192381",
        "colab": {
          "base_uri": "https://localhost:8080/",
          "height": 1000
        }
      },
      "source": [
        "#Q2\n",
        "from sklearn.naive_bayes import GaussianNB\n",
        "import pandas as pd\n",
        "import numpy as np\n",
        "import csv\n",
        "#Getting the iris.data file from the given link\n",
        "!wget https://archive.ics.uci.edu/ml/machine-learning-databases/iris/iris.data\n",
        "\n",
        "#reading the files and assigning the Y as the class name and X as the data\n",
        "X = pd.read_csv('iris.data',usecols=[0,1,2,3],header=None)\n",
        "Y = pd.read_csv('iris.data',usecols=[4],header=None)\n",
        "\n",
        "\n",
        "from sklearn.model_selection import train_test_split\n",
        "X_train, X_test, Y_train, Y_test = train_test_split(X, Y, test_size = 0.3,stratify=Y,random_state=1) #splitting data with 70% training samples for each class and mainting the reproducibility of data\n",
        "\n",
        "nb = GaussianNB()   #variable for naiveBayes cllassifier\n",
        "nb.fit(X_train, Y_train)  #fitting to the model\n",
        "Y_pred = nb.predict(X_test)\n",
        "\n",
        "true=np.array(Y_test)        \n",
        "predicted=np.array(Y_pred)\n",
        "\n",
        "\n",
        "#printing the predicted and true true labels\n",
        "for i in range(0,45):\n",
        "  print(\"Actual Class:\",true[i][0],\"\\tPredicted Class:\",predicted[i])\n"
      ],
      "execution_count": 5,
      "outputs": [
        {
          "output_type": "stream",
          "text": [
            "--2020-10-25 17:28:43--  https://archive.ics.uci.edu/ml/machine-learning-databases/iris/iris.data\n",
            "Resolving archive.ics.uci.edu (archive.ics.uci.edu)... 128.195.10.252\n",
            "Connecting to archive.ics.uci.edu (archive.ics.uci.edu)|128.195.10.252|:443... connected.\n",
            "HTTP request sent, awaiting response... 200 OK\n",
            "Length: 4551 (4.4K) [application/x-httpd-php]\n",
            "Saving to: ‘iris.data’\n",
            "\n",
            "iris.data           100%[===================>]   4.44K  --.-KB/s    in 0s      \n",
            "\n",
            "2020-10-25 17:28:43 (78.4 MB/s) - ‘iris.data’ saved [4551/4551]\n",
            "\n",
            "Actual Class: Iris-virginica \tPredicted Class: Iris-virginica\n",
            "Actual Class: Iris-setosa \tPredicted Class: Iris-setosa\n",
            "Actual Class: Iris-setosa \tPredicted Class: Iris-setosa\n",
            "Actual Class: Iris-virginica \tPredicted Class: Iris-versicolor\n",
            "Actual Class: Iris-versicolor \tPredicted Class: Iris-versicolor\n",
            "Actual Class: Iris-versicolor \tPredicted Class: Iris-versicolor\n",
            "Actual Class: Iris-virginica \tPredicted Class: Iris-virginica\n",
            "Actual Class: Iris-versicolor \tPredicted Class: Iris-versicolor\n",
            "Actual Class: Iris-virginica \tPredicted Class: Iris-virginica\n",
            "Actual Class: Iris-setosa \tPredicted Class: Iris-setosa\n",
            "Actual Class: Iris-setosa \tPredicted Class: Iris-setosa\n",
            "Actual Class: Iris-virginica \tPredicted Class: Iris-virginica\n",
            "Actual Class: Iris-setosa \tPredicted Class: Iris-setosa\n",
            "Actual Class: Iris-versicolor \tPredicted Class: Iris-versicolor\n",
            "Actual Class: Iris-setosa \tPredicted Class: Iris-setosa\n",
            "Actual Class: Iris-versicolor \tPredicted Class: Iris-versicolor\n",
            "Actual Class: Iris-virginica \tPredicted Class: Iris-virginica\n",
            "Actual Class: Iris-versicolor \tPredicted Class: Iris-versicolor\n",
            "Actual Class: Iris-versicolor \tPredicted Class: Iris-versicolor\n",
            "Actual Class: Iris-virginica \tPredicted Class: Iris-virginica\n",
            "Actual Class: Iris-virginica \tPredicted Class: Iris-virginica\n",
            "Actual Class: Iris-setosa \tPredicted Class: Iris-setosa\n",
            "Actual Class: Iris-versicolor \tPredicted Class: Iris-versicolor\n",
            "Actual Class: Iris-virginica \tPredicted Class: Iris-virginica\n",
            "Actual Class: Iris-versicolor \tPredicted Class: Iris-versicolor\n",
            "Actual Class: Iris-versicolor \tPredicted Class: Iris-versicolor\n",
            "Actual Class: Iris-versicolor \tPredicted Class: Iris-versicolor\n",
            "Actual Class: Iris-virginica \tPredicted Class: Iris-virginica\n",
            "Actual Class: Iris-setosa \tPredicted Class: Iris-setosa\n",
            "Actual Class: Iris-virginica \tPredicted Class: Iris-virginica\n",
            "Actual Class: Iris-setosa \tPredicted Class: Iris-setosa\n",
            "Actual Class: Iris-setosa \tPredicted Class: Iris-setosa\n",
            "Actual Class: Iris-versicolor \tPredicted Class: Iris-versicolor\n",
            "Actual Class: Iris-versicolor \tPredicted Class: Iris-versicolor\n",
            "Actual Class: Iris-virginica \tPredicted Class: Iris-virginica\n",
            "Actual Class: Iris-virginica \tPredicted Class: Iris-virginica\n",
            "Actual Class: Iris-setosa \tPredicted Class: Iris-setosa\n",
            "Actual Class: Iris-setosa \tPredicted Class: Iris-setosa\n",
            "Actual Class: Iris-setosa \tPredicted Class: Iris-setosa\n",
            "Actual Class: Iris-versicolor \tPredicted Class: Iris-versicolor\n",
            "Actual Class: Iris-virginica \tPredicted Class: Iris-virginica\n",
            "Actual Class: Iris-virginica \tPredicted Class: Iris-virginica\n",
            "Actual Class: Iris-versicolor \tPredicted Class: Iris-versicolor\n",
            "Actual Class: Iris-setosa \tPredicted Class: Iris-setosa\n",
            "Actual Class: Iris-setosa \tPredicted Class: Iris-setosa\n"
          ],
          "name": "stdout"
        },
        {
          "output_type": "stream",
          "text": [
            "/usr/local/lib/python3.6/dist-packages/sklearn/naive_bayes.py:206: DataConversionWarning: A column-vector y was passed when a 1d array was expected. Please change the shape of y to (n_samples, ), for example using ravel().\n",
            "  y = column_or_1d(y, warn=True)\n"
          ],
          "name": "stderr"
        }
      ]
    },
    {
      "cell_type": "code",
      "metadata": {
        "id": "W_Rigc3WzB6X",
        "outputId": "f50038fe-c45e-4050-8672-e75f5a22af27",
        "colab": {
          "base_uri": "https://localhost:8080/",
          "height": 153
        }
      },
      "source": [
        "from sklearn.metrics import accuracy_score\n",
        "acc=accuracy_score(true,predicted)\n",
        "print(\"The accuracy of the model is:\",acc)\n",
        "\n",
        "#Confusion Matrix\n",
        "from sklearn.metrics import confusion_matrix\n",
        "print(\"\\n\\n\")\n",
        "print(\"Confusion matrix :\\n\",confusion_matrix(predicted, true)) "
      ],
      "execution_count": 6,
      "outputs": [
        {
          "output_type": "stream",
          "text": [
            "The accuracy of the model is: 0.9777777777777777\n",
            "\n",
            "\n",
            "\n",
            "Confusion matrix :\n",
            " [[15  0  0]\n",
            " [ 0 15  1]\n",
            " [ 0  0 14]]\n"
          ],
          "name": "stdout"
        }
      ]
    }
  ]
}